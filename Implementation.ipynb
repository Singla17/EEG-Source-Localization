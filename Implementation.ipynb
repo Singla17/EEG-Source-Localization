{
  "nbformat": 4,
  "nbformat_minor": 0,
  "metadata": {
    "colab": {
      "name": "ELL319.ipynb",
      "provenance": [],
      "collapsed_sections": [
        "Jq67cCeCp2UT",
        "cHuQB8_to5bN",
        "QErF-3p8hUqq",
        "1fbzqKcnTTo7",
        "BAaQq6NwmAFT",
        "JkgigjEuhT5k",
        "_H_lPQLiaawe",
        "vRPwTAlcjpEO",
        "uMFEkd8rlbOo",
        "SrtxEvFyvfzy",
        "0gEfDbuGGeP4",
        "5j85PSwbnYTw",
        "P3DuxrndrcU2",
        "3GhubNbar8hz",
        "YJe2cUkfiGyw",
        "nXCz3xeeh6oK",
        "8iIijSEzxhQE",
        "6eY-aQns5Mj6",
        "krIQwNj-59uM"
      ]
    },
    "kernelspec": {
      "display_name": "Python 3",
      "name": "python3"
    },
    "language_info": {
      "name": "python"
    },
    "accelerator": "GPU"
  },
  "cells": [
    {
      "cell_type": "code",
      "metadata": {
        "colab": {
          "base_uri": "https://localhost:8080/"
        },
        "id": "H5sdE0NklLm4",
        "outputId": "0df3b140-3669-4c3c-d04c-fca77ccfd818"
      },
      "source": [
        "from google.colab import drive\n",
        "drive.mount('/content/drive')"
      ],
      "execution_count": null,
      "outputs": [
        {
          "output_type": "stream",
          "text": [
            "Mounted at /content/drive\n"
          ],
          "name": "stdout"
        }
      ]
    },
    {
      "cell_type": "code",
      "metadata": {
        "id": "duaRUbyJk4iM"
      },
      "source": [
        "import numpy as np\n",
        "path = 'drive/MyDrive/'"
      ],
      "execution_count": null,
      "outputs": []
    },
    {
      "cell_type": "markdown",
      "metadata": {
        "id": "Jq67cCeCp2UT"
      },
      "source": [
        "# Q=1 : getting coordinates of sources"
      ]
    },
    {
      "cell_type": "code",
      "metadata": {
        "id": "bnKXFGi8k4e5"
      },
      "source": [
        "data_x=np.load(path+'X_Q=1_MLP.npy')\n",
        "data_y=np.load(path+'Y_Q=1_MLP.npy') # labels"
      ],
      "execution_count": null,
      "outputs": []
    },
    {
      "cell_type": "code",
      "metadata": {
        "colab": {
          "base_uri": "https://localhost:8080/"
        },
        "id": "lOHhip0tp32O",
        "outputId": "42941843-a900-451e-e944-39a596e43752"
      },
      "source": [
        "data_y[0]"
      ],
      "execution_count": null,
      "outputs": [
        {
          "output_type": "execute_result",
          "data": {
            "text/plain": [
              "array([ 12.5, -50. , -65. ])"
            ]
          },
          "metadata": {
            "tags": []
          },
          "execution_count": 8
        }
      ]
    },
    {
      "cell_type": "code",
      "metadata": {
        "id": "42AGYpyKk-vb"
      },
      "source": [
        "coord_dict={}\n",
        "count =0"
      ],
      "execution_count": null,
      "outputs": []
    },
    {
      "cell_type": "code",
      "metadata": {
        "id": "bQs4zatFk4b8"
      },
      "source": [
        "for z in range(-85, 96, 5):\n",
        "  for y in range(-125, 86, 5):\n",
        "    for x in np.arange(-87.5,88.5,5):\n",
        "      li = [x,y,z]\n",
        "      key =  np.asarray(li)\n",
        "      coord_dict[count]= key \n",
        "      count= count+1"
      ],
      "execution_count": null,
      "outputs": []
    },
    {
      "cell_type": "code",
      "metadata": {
        "colab": {
          "base_uri": "https://localhost:8080/"
        },
        "id": "RyOkMokEmC_s",
        "outputId": "78950b59-3265-4e8c-9969-e28ff1591e83"
      },
      "source": [
        "data_y_ = np.zeros((data_y.shape[1],3))\n",
        "data_y_.shape"
      ],
      "execution_count": null,
      "outputs": [
        {
          "output_type": "execute_result",
          "data": {
            "text/plain": [
              "(1486881, 3)"
            ]
          },
          "metadata": {
            "tags": []
          },
          "execution_count": 13
        }
      ]
    },
    {
      "cell_type": "code",
      "metadata": {
        "id": "kQsFSpVFm8qV"
      },
      "source": [
        "for n in range(data_y.shape[1]):\n",
        "  data_y_[n]=coord_dict[data_y[0,n]]"
      ],
      "execution_count": null,
      "outputs": []
    },
    {
      "cell_type": "code",
      "metadata": {
        "colab": {
          "base_uri": "https://localhost:8080/"
        },
        "id": "PvnC1mWxmC8G",
        "outputId": "226d6076-5374-49cb-d511-4ee4ad7a1674"
      },
      "source": [
        "data_y_"
      ],
      "execution_count": null,
      "outputs": [
        {
          "output_type": "execute_result",
          "data": {
            "text/plain": [
              "array([[ 12.5, -50. , -65. ],\n",
              "       [ 12.5, -50. , -65. ],\n",
              "       [ 12.5, -50. , -65. ],\n",
              "       ...,\n",
              "       [  7.5,  -5. ,  80. ],\n",
              "       [  7.5,  -5. ,  80. ],\n",
              "       [  7.5,  -5. ,  80. ]])"
            ]
          },
          "metadata": {
            "tags": []
          },
          "execution_count": 22
        }
      ]
    },
    {
      "cell_type": "code",
      "metadata": {
        "id": "DJYiVjUxmC3z"
      },
      "source": [
        "np.save(path+'Y_Q=1_MLP.npy',data_y_)"
      ],
      "execution_count": null,
      "outputs": []
    },
    {
      "cell_type": "markdown",
      "metadata": {
        "id": "cHuQB8_to5bN"
      },
      "source": [
        "# Q=2 : getting coordinates of sources"
      ]
    },
    {
      "cell_type": "code",
      "metadata": {
        "id": "rkz-b4Spn-V4"
      },
      "source": [
        "# data_x=np.load(path+'X_Q=2_MLP.npy')\n",
        "data_y=np.load(path+'Y_Q=2_MLP.npy') # labels"
      ],
      "execution_count": null,
      "outputs": []
    },
    {
      "cell_type": "code",
      "metadata": {
        "colab": {
          "base_uri": "https://localhost:8080/"
        },
        "id": "jUH-Hx6qUFju",
        "outputId": "39972265-212f-418d-8f5b-896ec714e701"
      },
      "source": [
        "data_y.shape "
      ],
      "execution_count": null,
      "outputs": [
        {
          "output_type": "execute_result",
          "data": {
            "text/plain": [
              "(2, 625000)"
            ]
          },
          "metadata": {
            "tags": []
          },
          "execution_count": 32
        }
      ]
    },
    {
      "cell_type": "code",
      "metadata": {
        "colab": {
          "base_uri": "https://localhost:8080/"
        },
        "id": "RfG7f8DCUHoq",
        "outputId": "41c8fc49-31a9-4180-8ce8-8f2af59e3eea"
      },
      "source": [
        "data_y[:,6000]"
      ],
      "execution_count": null,
      "outputs": [
        {
          "output_type": "execute_result",
          "data": {
            "text/plain": [
              "array([ 669, 1029])"
            ]
          },
          "metadata": {
            "tags": []
          },
          "execution_count": 33
        }
      ]
    },
    {
      "cell_type": "code",
      "metadata": {
        "id": "-lmAHcZCn4os"
      },
      "source": [
        "coord_dict={}\n",
        "count =0\n",
        "for z1 in np.arange(-60, 61, 15):\n",
        "    for y1 in np.arange(-90, 41, 15):\n",
        "      for x in np.arange(-52.5,53.5,15):\n",
        "        li = [x,y1,z1]\n",
        "        key =  np.asarray(li)\n",
        "        coord_dict[count]=key\n",
        "        count= count+1\n",
        "      \n",
        "\n",
        "for z2 in np.arange(-60, 61, 15):\n",
        "  for y1 in np.arange(-90, 41, 15):\n",
        "      for x in np.arange(-52.5,53.5,15):\n",
        "        li = [x,y1,z2]\n",
        "        key =  np.asarray(li)\n",
        "        coord_dict[count]=key\n",
        "        count= count+1\n",
        "       \n",
        "\n",
        "\n",
        "for z1 in np.arange(-55, 66, 15):\n",
        "    for y1 in np.arange(-85, 46, 15):\n",
        "      for x in np.arange(-52.5,53.5,15):\n",
        "        li = [x,y1,z1]\n",
        "        key =  np.asarray(li)\n",
        "        coord_dict[count]=key\n",
        "        count= count+1\n",
        "\n",
        "for z2 in np.arange(-55, 66, 15):\n",
        "  for y1 in np.arange(-85, 46, 15):\n",
        "      for x in np.arange(-52.5,53.5,15):\n",
        "        li = [x,y1,z2]\n",
        "        key =  np.asarray(li)\n",
        "        coord_dict[count]=key\n",
        "        count= count+1"
      ],
      "execution_count": null,
      "outputs": []
    },
    {
      "cell_type": "code",
      "metadata": {
        "colab": {
          "base_uri": "https://localhost:8080/"
        },
        "id": "XNAYntZZn4mS",
        "outputId": "159bb888-a8d9-4584-e110-45bfe15665b0"
      },
      "source": [
        "data_y_ = np.zeros((data_y.shape[1],6))\n",
        "data_y_.shape"
      ],
      "execution_count": null,
      "outputs": [
        {
          "output_type": "execute_result",
          "data": {
            "text/plain": [
              "(625000, 6)"
            ]
          },
          "metadata": {
            "tags": []
          },
          "execution_count": 34
        }
      ]
    },
    {
      "cell_type": "code",
      "metadata": {
        "colab": {
          "base_uri": "https://localhost:8080/"
        },
        "id": "J0yWqBePok_U",
        "outputId": "a2b07992-d189-4ae2-b8fe-37478a64a722"
      },
      "source": [
        "coord_dict[data_y[0,0]]"
      ],
      "execution_count": null,
      "outputs": [
        {
          "output_type": "execute_result",
          "data": {
            "text/plain": [
              "array([-37.5, -60. , -60. ])"
            ]
          },
          "metadata": {
            "tags": []
          },
          "execution_count": 35
        }
      ]
    },
    {
      "cell_type": "code",
      "metadata": {
        "colab": {
          "base_uri": "https://localhost:8080/"
        },
        "id": "MHdBz-pAoS3M",
        "outputId": "9c1fc7d9-c22a-4049-a274-d6a7156fd7e2"
      },
      "source": [
        "coord_dict[data_y[1,0]]"
      ],
      "execution_count": null,
      "outputs": [
        {
          "output_type": "execute_result",
          "data": {
            "text/plain": [
              "array([-37.5, -60. , -45. ])"
            ]
          },
          "metadata": {
            "tags": []
          },
          "execution_count": 36
        }
      ]
    },
    {
      "cell_type": "code",
      "metadata": {
        "id": "WjmlT8t8n4Cz"
      },
      "source": [
        "for n in range(data_y.shape[1]):\n",
        "  data_y_[n,0:3]=coord_dict[data_y[0,n]]\n",
        "  data_y_[n,3:6]=coord_dict[data_y[1,n]]"
      ],
      "execution_count": null,
      "outputs": []
    },
    {
      "cell_type": "code",
      "metadata": {
        "colab": {
          "base_uri": "https://localhost:8080/"
        },
        "id": "ywhmFZOon3_P",
        "outputId": "c44beac5-ff6d-4696-f65c-79c3f1da7ae4"
      },
      "source": [
        "data_y_"
      ],
      "execution_count": null,
      "outputs": [
        {
          "output_type": "execute_result",
          "data": {
            "text/plain": [
              "array([[-37.5, -60. , -60. , -37.5, -60. , -45. ],\n",
              "       [-37.5, -60. , -60. , -37.5, -60. , -45. ],\n",
              "       [-37.5, -60. , -60. , -37.5, -60. , -45. ],\n",
              "       ...,\n",
              "       [  7.5,  20. ,  65. ,   7.5,  20. ,  50. ],\n",
              "       [  7.5,  20. ,  65. ,   7.5,  20. ,  50. ],\n",
              "       [  7.5,  20. ,  65. ,   7.5,  20. ,  50. ]])"
            ]
          },
          "metadata": {
            "tags": []
          },
          "execution_count": 38
        }
      ]
    },
    {
      "cell_type": "code",
      "metadata": {
        "id": "B6rbV6hhn3zk"
      },
      "source": [
        "np.save(path+'Y_Q=2_MLP.npy',data_y_)"
      ],
      "execution_count": null,
      "outputs": []
    },
    {
      "cell_type": "markdown",
      "metadata": {
        "id": "QErF-3p8hUqq"
      },
      "source": [
        "# Dataset Q=1 Preprocessing for MLP - Random shuffle and normalisation"
      ]
    },
    {
      "cell_type": "code",
      "metadata": {
        "id": "hGQkVfO3j6KM"
      },
      "source": [
        "import numpy as np\n",
        "path = 'drive/MyDrive/'"
      ],
      "execution_count": null,
      "outputs": []
    },
    {
      "cell_type": "code",
      "metadata": {
        "id": "79rA2q-xUkhv"
      },
      "source": [
        "Q=1\n",
        "data_x=np.load(path+'X_Q=%d_MLP.npy'%Q).T\n",
        "data_y=np.load(path+'Y_Q=%d_MLP.npy'%Q) # labels"
      ],
      "execution_count": null,
      "outputs": []
    },
    {
      "cell_type": "code",
      "metadata": {
        "colab": {
          "base_uri": "https://localhost:8080/"
        },
        "id": "__0ZO2nWsWKh",
        "outputId": "6106e68a-c389-46c2-cc18-1c0c7cc3f484"
      },
      "source": [
        "print(data_x.shape, data_y.shape)"
      ],
      "execution_count": null,
      "outputs": [
        {
          "output_type": "stream",
          "text": [
            "(1486881, 97) (1486881, 3)\n"
          ],
          "name": "stdout"
        }
      ]
    },
    {
      "cell_type": "code",
      "metadata": {
        "id": "CsX2A6e8sd4O"
      },
      "source": [
        "# normalise the data (x,y)\n",
        "x_mean=data_x.mean(axis=0,keepdims=True)\n",
        "x_std=data_x.std(axis=0,keepdims=True)\n",
        "y_mean=data_y.mean(axis=0,keepdims=True)\n",
        "y_std=data_y.std(axis=0,keepdims=True)"
      ],
      "execution_count": null,
      "outputs": []
    },
    {
      "cell_type": "code",
      "metadata": {
        "colab": {
          "base_uri": "https://localhost:8080/"
        },
        "id": "gtBLbSzuqAKP",
        "outputId": "a28e9699-603a-4e79-844d-59f3281e48d6"
      },
      "source": [
        "y_std"
      ],
      "execution_count": null,
      "outputs": [
        {
          "output_type": "execute_result",
          "data": {
            "text/plain": [
              "array([[32.52091561, 39.55741222, 32.56242532]])"
            ]
          },
          "metadata": {
            "tags": []
          },
          "execution_count": 12
        }
      ]
    },
    {
      "cell_type": "code",
      "metadata": {
        "colab": {
          "base_uri": "https://localhost:8080/"
        },
        "id": "Wtf-oYHcsd0g",
        "outputId": "c30c32a1-f679-4795-d802-758842e711ac"
      },
      "source": [
        "print(x_mean.shape,x_std.shape,y_mean.shape,y_std.shape)"
      ],
      "execution_count": null,
      "outputs": [
        {
          "output_type": "stream",
          "text": [
            "(1, 97) (1, 97) (1, 3) (1, 3)\n"
          ],
          "name": "stdout"
        }
      ]
    },
    {
      "cell_type": "code",
      "metadata": {
        "id": "ckoBrvSIsWHr"
      },
      "source": [
        "# print(x_mean,x_std,y_mean,y_std)"
      ],
      "execution_count": null,
      "outputs": []
    },
    {
      "cell_type": "code",
      "metadata": {
        "id": "jXtpYZBJs_TW"
      },
      "source": [
        "data_x-=x_mean\n",
        "data_x/=x_std\n",
        "data_y-=y_mean\n",
        "data_y/=y_std"
      ],
      "execution_count": null,
      "outputs": []
    },
    {
      "cell_type": "code",
      "metadata": {
        "colab": {
          "base_uri": "https://localhost:8080/"
        },
        "id": "y2_Dj_7Iu-Wu",
        "outputId": "fbda40f4-beae-4da9-dbc2-210c87130257"
      },
      "source": [
        "# random shuffling of data\n",
        "data = np.hstack((data_x,data_y))\n",
        "data.shape"
      ],
      "execution_count": null,
      "outputs": [
        {
          "output_type": "execute_result",
          "data": {
            "text/plain": [
              "(1486881, 100)"
            ]
          },
          "metadata": {
            "tags": []
          },
          "execution_count": 16
        }
      ]
    },
    {
      "cell_type": "code",
      "metadata": {
        "colab": {
          "base_uri": "https://localhost:8080/"
        },
        "id": "aBTqy0KWvFD1",
        "outputId": "9da45bf0-b015-4391-b0fe-0894b3586f63"
      },
      "source": [
        "print(data[0,:5])\n",
        "np.random.shuffle(data)\n",
        "print(data[0,:5])"
      ],
      "execution_count": null,
      "outputs": [
        {
          "output_type": "stream",
          "text": [
            "[-0.41540272  0.60430061 -1.06905462 -0.44949985 -0.51020468]\n",
            "[-0.01381905  0.01398679  0.00248277 -0.00449341  0.01053614]\n"
          ],
          "name": "stdout"
        }
      ]
    },
    {
      "cell_type": "code",
      "metadata": {
        "colab": {
          "base_uri": "https://localhost:8080/"
        },
        "id": "Kj3Uzv3OvnRb",
        "outputId": "7487e1d0-6b98-4c96-81c4-331cc690e2f6"
      },
      "source": [
        "data_x=data[:,:-3]\n",
        "data_y=data[:,-3:]\n",
        "print(data_x.shape,data_y.shape)"
      ],
      "execution_count": null,
      "outputs": [
        {
          "output_type": "stream",
          "text": [
            "(1486881, 97) (1486881, 3)\n"
          ],
          "name": "stdout"
        }
      ]
    },
    {
      "cell_type": "code",
      "metadata": {
        "id": "pKJ7QpQHtsQP"
      },
      "source": [
        "np.save(path+'Dataset/X_Q_%d_MLP.npy'%Q,data[:,:-3])\n",
        "np.save(path+'Dataset/Y_Q_%d_MLP.npy'%Q,data[:,-3:])"
      ],
      "execution_count": null,
      "outputs": []
    },
    {
      "cell_type": "code",
      "metadata": {
        "colab": {
          "base_uri": "https://localhost:8080/"
        },
        "id": "Sk6hGTfQUmjb",
        "outputId": "2898efea-6173-4243-abda-923b5969bd5f"
      },
      "source": [
        "x=np.load(path+'Dataset/X_Q_%d_MLP.npy'%1)\n",
        "x.dtype\n",
        "x=x.astype(np.float32)\n",
        "x.dtype"
      ],
      "execution_count": null,
      "outputs": [
        {
          "output_type": "execute_result",
          "data": {
            "text/plain": [
              "dtype('float32')"
            ]
          },
          "metadata": {
            "tags": []
          },
          "execution_count": 3
        }
      ]
    },
    {
      "cell_type": "code",
      "metadata": {
        "colab": {
          "base_uri": "https://localhost:8080/"
        },
        "id": "ayfNnGxnU8bZ",
        "outputId": "34080ccc-fb3c-40ab-d195-24374447cd74"
      },
      "source": [
        "y=np.load(path+'Dataset/Y_Q_%d_MLP.npy'%1)\n",
        "y.dtype\n",
        "y=y.astype(np.float32)\n",
        "y.dtype"
      ],
      "execution_count": null,
      "outputs": [
        {
          "output_type": "execute_result",
          "data": {
            "text/plain": [
              "dtype('float32')"
            ]
          },
          "metadata": {
            "tags": []
          },
          "execution_count": 5
        }
      ]
    },
    {
      "cell_type": "code",
      "metadata": {
        "id": "wUj71H3pVM9e"
      },
      "source": [
        "np.save(path+'Dataset/X_Q_%d_MLP.npy'%1,x)\n",
        "np.save(path+'Dataset/Y_Q_%d_MLP.npy'%1,y)"
      ],
      "execution_count": null,
      "outputs": []
    },
    {
      "cell_type": "code",
      "metadata": {
        "id": "jCGLo5rWS_Oq"
      },
      "source": [
        "data_x[0,:5]"
      ],
      "execution_count": null,
      "outputs": []
    },
    {
      "cell_type": "code",
      "metadata": {
        "colab": {
          "base_uri": "https://localhost:8080/"
        },
        "id": "HSImp30whUK_",
        "outputId": "04c993c8-1d97-4a77-bc4e-165c20397ac6"
      },
      "source": [
        "data_y[:10]"
      ],
      "execution_count": null,
      "outputs": [
        {
          "output_type": "execute_result",
          "data": {
            "text/plain": [
              "array([[-0.09634921,  1.29057148, -0.59785701],\n",
              "       [-1.01883246,  1.29057148, -0.59785701],\n",
              "       [ 0.82613405,  1.5433686 , -0.4443058 ],\n",
              "       [-1.32632688, -1.23739975, -0.4443058 ],\n",
              "       [-1.17257967, -0.0998127 , -0.13720336],\n",
              "       [ 0.057398  , -0.73180551, -2.13336917],\n",
              "       [-0.71133804, -0.35260982, -1.82626674],\n",
              "       [-0.09634921,  1.16417291,  0.63055272],\n",
              "       [ 0.057398  , -0.98460263,  0.16989907],\n",
              "       [-1.17257967,  0.53218011,  1.24475758]])"
            ]
          },
          "metadata": {
            "tags": []
          },
          "execution_count": 16
        }
      ]
    },
    {
      "cell_type": "markdown",
      "metadata": {
        "id": "1fbzqKcnTTo7"
      },
      "source": [
        "\n",
        "# Dataset Q=2 Preprocessing for MLP - Random shuffle and normalisation"
      ]
    },
    {
      "cell_type": "code",
      "metadata": {
        "id": "x2CsKC15TTpK"
      },
      "source": [
        "import numpy as np\n",
        "path = 'drive/MyDrive/'\n",
        "Q=2\n",
        "data_x=np.load(path+'X_Q=%d_MLP.npy'%Q).T\n",
        "data_y=np.load(path+'Y_Q=%d_MLP.npy'%Q) # labels"
      ],
      "execution_count": null,
      "outputs": []
    },
    {
      "cell_type": "code",
      "metadata": {
        "colab": {
          "base_uri": "https://localhost:8080/"
        },
        "id": "nchVyeAbTTpL",
        "outputId": "e712ad12-2ef6-46a7-936d-7a733bd06c04"
      },
      "source": [
        "print(data_x.shape, data_y.shape)"
      ],
      "execution_count": null,
      "outputs": [
        {
          "output_type": "stream",
          "text": [
            "(625000, 97) (625000, 6)\n"
          ],
          "name": "stdout"
        }
      ]
    },
    {
      "cell_type": "code",
      "metadata": {
        "id": "-DNTbGzBTTpM"
      },
      "source": [
        "# normalise the data (x,y)\n",
        "x_mean=data_x.mean(axis=0,keepdims=True)\n",
        "x_std=data_x.std(axis=0,keepdims=True)\n",
        "y_mean=data_y.mean(axis=0,keepdims=True)\n",
        "y_std=data_y.std(axis=0,keepdims=True)"
      ],
      "execution_count": null,
      "outputs": []
    },
    {
      "cell_type": "code",
      "metadata": {
        "colab": {
          "base_uri": "https://localhost:8080/"
        },
        "id": "Pi1fLGaeTTpN",
        "outputId": "4117e3f7-34f6-4a7e-8168-93b0f2891a97"
      },
      "source": [
        "y_std"
      ],
      "execution_count": null,
      "outputs": [
        {
          "output_type": "execute_result",
          "data": {
            "text/plain": [
              "array([[30.23864226, 32.94725408, 34.24295688, 30.23864226, 32.94725408,\n",
              "        34.24295688]])"
            ]
          },
          "metadata": {
            "tags": []
          },
          "execution_count": 45
        }
      ]
    },
    {
      "cell_type": "code",
      "metadata": {
        "colab": {
          "base_uri": "https://localhost:8080/"
        },
        "id": "ldMdZD3yTTpN",
        "outputId": "c30919de-3868-4434-f3a5-a6f0bedc0be0"
      },
      "source": [
        "print(x_mean.shape,x_std.shape,y_mean.shape,y_std.shape)"
      ],
      "execution_count": null,
      "outputs": [
        {
          "output_type": "stream",
          "text": [
            "(1, 97) (1, 97) (1, 6) (1, 6)\n"
          ],
          "name": "stdout"
        }
      ]
    },
    {
      "cell_type": "code",
      "metadata": {
        "id": "lvhmJQqfTTpO"
      },
      "source": [
        "# print(x_mean,x_std,y_mean,y_std)"
      ],
      "execution_count": null,
      "outputs": []
    },
    {
      "cell_type": "code",
      "metadata": {
        "id": "4oRravCiTTpQ"
      },
      "source": [
        "data_x-=x_mean\n",
        "data_x/=x_std\n",
        "data_y-=y_mean\n",
        "data_y/=y_std"
      ],
      "execution_count": null,
      "outputs": []
    },
    {
      "cell_type": "code",
      "metadata": {
        "colab": {
          "base_uri": "https://localhost:8080/"
        },
        "id": "PwlLgIYCTTpQ",
        "outputId": "fa98bdd3-93c7-46c5-d165-c2f58a2598e0"
      },
      "source": [
        "# random shuffling of data\n",
        "data = np.hstack((data_x,data_y))\n",
        "data.shape"
      ],
      "execution_count": null,
      "outputs": [
        {
          "output_type": "execute_result",
          "data": {
            "text/plain": [
              "(625000, 103)"
            ]
          },
          "metadata": {
            "tags": []
          },
          "execution_count": 49
        }
      ]
    },
    {
      "cell_type": "code",
      "metadata": {
        "colab": {
          "base_uri": "https://localhost:8080/"
        },
        "id": "Y7uqU3a2TTpR",
        "outputId": "1fbfce81-9bd3-4780-c274-9768d03b9270"
      },
      "source": [
        "print(data[0,:5])\n",
        "np.random.shuffle(data)\n",
        "print(data[0,:5])"
      ],
      "execution_count": null,
      "outputs": [
        {
          "output_type": "stream",
          "text": [
            "[ 0.07269141 -0.00883582  0.05523939 -0.00300683  0.02511059]\n",
            "[-0.05263965 -0.01103623 -0.01985167  0.0212366   0.00547584]\n"
          ],
          "name": "stdout"
        }
      ]
    },
    {
      "cell_type": "code",
      "metadata": {
        "colab": {
          "base_uri": "https://localhost:8080/"
        },
        "id": "I4nWOpfiTTpR",
        "outputId": "5162eadb-85f2-4758-958c-76503fa7285f"
      },
      "source": [
        "data_x=data[:,:-6]\n",
        "data_y=data[:,-6:]\n",
        "print(data_x.shape,data_y.shape)"
      ],
      "execution_count": null,
      "outputs": [
        {
          "output_type": "stream",
          "text": [
            "(625000, 97) (625000, 6)\n"
          ],
          "name": "stdout"
        }
      ]
    },
    {
      "cell_type": "code",
      "metadata": {
        "id": "-Teb1RnlTTpR"
      },
      "source": [
        "np.save(path+'Dataset/X_Q_%d_MLP.npy'%Q,data[:,:-6])\n",
        "np.save(path+'Dataset/Y_Q_%d_MLP.npy'%Q,data[:,-6:])"
      ],
      "execution_count": null,
      "outputs": []
    },
    {
      "cell_type": "code",
      "metadata": {
        "colab": {
          "base_uri": "https://localhost:8080/"
        },
        "id": "6J8v03qriy8a",
        "outputId": "78769031-e824-4969-9acc-e027b9f2d0f0"
      },
      "source": [
        "x=np.load(path+'Dataset/X_Q_%d_MLP.npy'%2)\n",
        "print(x.dtype)\n",
        "x=x.astype(np.float32)\n",
        "x.dtype"
      ],
      "execution_count": null,
      "outputs": [
        {
          "output_type": "stream",
          "text": [
            "float64\n"
          ],
          "name": "stdout"
        },
        {
          "output_type": "execute_result",
          "data": {
            "text/plain": [
              "dtype('float32')"
            ]
          },
          "metadata": {
            "tags": []
          },
          "execution_count": 11
        }
      ]
    },
    {
      "cell_type": "code",
      "metadata": {
        "colab": {
          "base_uri": "https://localhost:8080/"
        },
        "id": "jC6q2cZGiy2V",
        "outputId": "97a16f76-954a-4771-8054-472aa9586a43"
      },
      "source": [
        "y=np.load(path+'Dataset/Y_Q_%d_MLP.npy'%2)\n",
        "print(y.dtype)\n",
        "y=y.astype(np.float32)\n",
        "y.dtype"
      ],
      "execution_count": null,
      "outputs": [
        {
          "output_type": "stream",
          "text": [
            "float64\n"
          ],
          "name": "stdout"
        },
        {
          "output_type": "execute_result",
          "data": {
            "text/plain": [
              "dtype('float32')"
            ]
          },
          "metadata": {
            "tags": []
          },
          "execution_count": 12
        }
      ]
    },
    {
      "cell_type": "code",
      "metadata": {
        "id": "liDHhzIQi71Y"
      },
      "source": [
        "np.save(path+'Dataset/X_Q_%d_MLP.npy'%2,x)\n",
        "np.save(path+'Dataset/Y_Q_%d_MLP.npy'%2,y)"
      ],
      "execution_count": null,
      "outputs": []
    },
    {
      "cell_type": "code",
      "metadata": {
        "colab": {
          "base_uri": "https://localhost:8080/"
        },
        "id": "O4W-gs9rTTpS",
        "outputId": "3e96b1bc-86f0-4cd2-8928-595e4c5f765d"
      },
      "source": [
        "data_x[0,:5]"
      ],
      "execution_count": null,
      "outputs": [
        {
          "output_type": "execute_result",
          "data": {
            "text/plain": [
              "array([-0.05263965, -0.01103623, -0.01985167,  0.0212366 ,  0.00547584])"
            ]
          },
          "metadata": {
            "tags": []
          },
          "execution_count": 54
        }
      ]
    },
    {
      "cell_type": "code",
      "metadata": {
        "colab": {
          "base_uri": "https://localhost:8080/"
        },
        "id": "2m86qkaITTpS",
        "outputId": "5d4048be-38c6-4735-e9ad-a28c148737ec"
      },
      "source": [
        "data_y[:3]"
      ],
      "execution_count": null,
      "outputs": [
        {
          "output_type": "execute_result",
          "data": {
            "text/plain": [
              "array([[-0.75527201, -1.40282404,  0.68195045, -0.75527201, -1.40282404,\n",
              "        -1.07023468],\n",
              "       [ 0.73289005, -1.40282404,  1.55804302,  0.73289005, -1.40282404,\n",
              "        -1.50828096],\n",
              "       [ 0.23683603, -0.49227775, -1.50828096,  0.23683603, -0.49227775,\n",
              "        -1.94632725]])"
            ]
          },
          "metadata": {
            "tags": []
          },
          "execution_count": 56
        }
      ]
    },
    {
      "cell_type": "markdown",
      "metadata": {
        "id": "BAaQq6NwmAFT"
      },
      "source": [
        "# Deep EEG - Multi Layer Perceptron"
      ]
    },
    {
      "cell_type": "code",
      "metadata": {
        "id": "Vyzbn5hWoeo7"
      },
      "source": [
        "import torch\n",
        "import torch.nn as nn\n",
        "\n",
        "class DeepEEG_MLP(nn.Module): \n",
        "  def __init__(self, M=97, Q=1):\n",
        "    super(DeepEEG_MLP, self).__init__()\n",
        "    self.fc1 = nn.Linear(M, 3000)\n",
        "    self.fc2 = nn.Linear(3000, 2500)\n",
        "    self.fc3 = nn.Linear(2500, 1200)\n",
        "    self.fc4 = nn.Linear(1200, 3*Q) #3 coordinates for each ECD source\n",
        "\n",
        "  def forward(self,inp):\n",
        "    out = torch.sigmoid(self.fc1(inp))\n",
        "    out = torch.sigmoid(self.fc2(out))\n",
        "    out = torch.sigmoid(self.fc3(out))\n",
        "    out = self.fc4(out)\n",
        "    return out\n",
        "\n",
        "def DeepEEG_MLP_Model(M=97, Q=1):\n",
        "  # M - dimension of single snapshot sample taken from M (=97) sensors\n",
        "  # Q - number of equivalent current dipole (ECD) sources \n",
        "  return DeepEEG_MLP(M, Q)"
      ],
      "execution_count": null,
      "outputs": []
    },
    {
      "cell_type": "code",
      "metadata": {
        "colab": {
          "base_uri": "https://localhost:8080/"
        },
        "id": "wwMBSrNUwv6n",
        "outputId": "d53a94ec-2286-4ea4-a116-b6740a53c6ac"
      },
      "source": [
        "from torchsummary import summary\n",
        "net = DeepEEG_MLP_Model(97,2)\n",
        "summary(net, input_size=(97,))\n",
        "# net"
      ],
      "execution_count": null,
      "outputs": [
        {
          "output_type": "stream",
          "text": [
            "----------------------------------------------------------------\n",
            "        Layer (type)               Output Shape         Param #\n",
            "================================================================\n",
            "            Linear-1                 [-1, 3000]         294,000\n",
            "            Linear-2                 [-1, 2500]       7,502,500\n",
            "            Linear-3                 [-1, 1200]       3,001,200\n",
            "            Linear-4                    [-1, 6]           7,206\n",
            "================================================================\n",
            "Total params: 10,804,906\n",
            "Trainable params: 10,804,906\n",
            "Non-trainable params: 0\n",
            "----------------------------------------------------------------\n",
            "Input size (MB): 0.00\n",
            "Forward/backward pass size (MB): 0.05\n",
            "Params size (MB): 41.22\n",
            "Estimated Total Size (MB): 41.27\n",
            "----------------------------------------------------------------\n"
          ],
          "name": "stdout"
        }
      ]
    },
    {
      "cell_type": "markdown",
      "metadata": {
        "id": "JkgigjEuhT5k"
      },
      "source": [
        "# Execute Model Training"
      ]
    },
    {
      "cell_type": "code",
      "metadata": {
        "id": "iCJD87WM4KL9"
      },
      "source": [
        "import os\n",
        "import numpy as np\n",
        "import PIL.Image as Image\n",
        "import torch\n",
        "import torchvision.transforms as transforms\n",
        "from torch.utils.data import Dataset\n",
        "\n",
        "class EEG(Dataset):\n",
        "    def __init__(self, root='./', train=True,Q=1,split=0.8):\n",
        "        super(EEG, self).__init__()\n",
        "        path='train' if train else 'val'\n",
        "        self.data=np.load(root+'X_Q_%d_MLP.npy'%Q)#[:200000]\n",
        "        self.targets=np.load(root+'Y_Q_%d_MLP.npy'%Q)#[:200000]\n",
        "        split=int(0.8*self.data.shape[0])\n",
        "        if train:\n",
        "            self.data=self.data[:split]\n",
        "            self.targets=self.targets[:split]\n",
        "        else:\n",
        "            self.data=self.data[split:]\n",
        "            self.targets=self.targets[split:]\n",
        "\n",
        "    def __getitem__(self, index):\n",
        "        x, target = self.data[index], self.targets[index]\n",
        "        return x, target\n",
        "\n",
        "    def __len__(self):\n",
        "        return self.data.shape[0]"
      ],
      "execution_count": null,
      "outputs": []
    },
    {
      "cell_type": "code",
      "metadata": {
        "id": "LOFkE0-Rhddo"
      },
      "source": [
        "import torch\n",
        "import torch.nn as nn\n",
        "import torch.optim as optim\n",
        "import torch.nn.functional as F\n",
        "import torch.backends.cudnn as cudnn\n",
        "import matplotlib.pyplot as plt\n",
        "import numpy as np\n",
        "from torch.utils.data import Dataset, DataLoader\n",
        "\n",
        "def main(Q=1,lr=0.01,epochs=10):\n",
        "    exp_name='MLP_Q=%d'%Q\n",
        "    device = 'cuda' if torch.cuda.is_available() else 'cpu'\n",
        "    # print(torch.cuda.get_device_properties(0))\n",
        "    \n",
        "    # Data\n",
        "    print('==> Preparing data..')\n",
        "    path = 'drive/MyDrive/Dataset/'\n",
        "    trainset = EEG(root=path,train=True,Q=Q,split=.8)\n",
        "    trainloader = DataLoader(trainset, batch_size=128, shuffle=True, num_workers=2)\n",
        "    testset = EEG(root=path,train=False,Q=Q,split=.8)\n",
        "    testloader = DataLoader(testset, batch_size=128, shuffle=False, num_workers=2)\n",
        "\n",
        "    # Model\n",
        "    print('==> Building model..')\n",
        "    net = DeepEEG_MLP_Model(M=97, Q=Q)\n",
        "    net = net.to(device)\n",
        "    if device == 'cuda':\n",
        "        net = torch.nn.DataParallel(net)\n",
        "        cudnn.benchmark = True\n",
        "    \n",
        "    start_epoch = 1\n",
        "    end_epoch = epochs+1\n",
        "    # Load checkpoint.\n",
        "    if os.path.exists('%s_model.pth'%exp_name):        \n",
        "        print('==> Resuming from last epoch..')\n",
        "        net.load_state_dict(torch.load('%s_model.pth'%exp_name))\n",
        "\n",
        "    criterion = nn.MSELoss()\n",
        "    optimizer = optim.SGD(net.parameters(), lr=lr) #, momentum=0.9, weight_decay=0.0001\n",
        "    trainloss, testloss, trainacc, testacc = [], [], [], []\n",
        "    for epoch in range(start_epoch, end_epoch):\n",
        "        if epoch%10==0:\n",
        "            lr/=10.\n",
        "            optimizer = optim.SGD(net.parameters(), lr=lr) #, momentum=0.9, weight_decay=0.0001\n",
        "\n",
        "        l=train(epoch, net, trainloader, device, optimizer, criterion)\n",
        "        trainloss.append(l)\n",
        "        l=test(epoch, net, testloader, device, criterion, exp_name)\n",
        "        testloss.append(l)\n",
        "        \n",
        "        print('Epoch  % 2d Train Loss: %2.5f Test Loss: %2.5f'%(epoch,trainloss[-1],testloss[-1]))\n",
        "        # display.clear_output(wait=True)\n",
        "\n",
        "    torch.save(net.state_dict(), '%s_model.pth'%exp_name)\n",
        "    Save_Stats(trainloss, testloss, exp_name)\n",
        "\n",
        "def train(epoch, net, trainloader, device, optimizer, criterion):\n",
        "    net.train()\n",
        "    train_loss = 0\n",
        "    for batch_idx, (inputs, targets) in enumerate(trainloader):\n",
        "        inputs, targets = inputs.to(device).float(), targets.to(device).float()\n",
        "        optimizer.zero_grad()\n",
        "        outputs = net(inputs)\n",
        "        loss = criterion(outputs, targets)\n",
        "        loss.backward()\n",
        "        optimizer.step()\n",
        "        train_loss += loss.item()\n",
        "    return train_loss/(batch_idx+1)\n",
        "\n",
        "def test(epoch, net, testloader, device, criterion, exp_name):\n",
        "    net.eval()\n",
        "    test_loss = 0\n",
        "    correct = 0\n",
        "    total = 0\n",
        "    with torch.no_grad():\n",
        "        for batch_idx, (inputs, targets) in enumerate(testloader):\n",
        "            inputs, targets = inputs.to(device).float(), targets.to(device).float()\n",
        "            outputs = net(inputs)\n",
        "            loss = criterion(outputs, targets)\n",
        "            test_loss += loss.item()\n",
        "    return test_loss/(batch_idx+1)\n",
        "\n",
        "def Save_Stats(trainloss, testloss, exp_name):\n",
        "    data=[]\n",
        "    data.append(trainloss)\n",
        "    data.append(testloss)\n",
        "    data=np.array(data)\n",
        "    data.reshape((2,-1))\n",
        "    stats_path = '%s.npy'%exp_name\n",
        "    if os.path.exists(stats_path):\n",
        "        data_old = np.load(stats_path)\n",
        "        data = np.hstack((data_old,data))\n",
        "    np.save(stats_path,data)\n",
        "\n",
        "    SavePlots(data[0], data[1], 'loss', exp_name)\n",
        "\n",
        "def SavePlots(y1, y2, metric, exp_name):\n",
        "    try:\n",
        "        plt.clf()\n",
        "    except Exception as e:\n",
        "        pass\n",
        "    # plt.style.use('seaborn')\n",
        "    plt.title(exp_name)\n",
        "    plt.xlabel('epochs')\n",
        "    plt.ylabel(metric)\n",
        "    epochs=np.arange(1,len(y1)+1,1)\n",
        "    plt.plot(epochs,y1,label='train %s'%metric)\n",
        "    plt.plot(epochs,y2,label='val %s'%metric)\n",
        "    plt.legend()\n",
        "    plt.savefig('%s_%s'%(exp_name,metric), dpi=95)"
      ],
      "execution_count": null,
      "outputs": []
    },
    {
      "cell_type": "code",
      "metadata": {
        "colab": {
          "base_uri": "https://localhost:8080/",
          "height": 669
        },
        "id": "sH9Q_H9u5Xxk",
        "outputId": "9e4fee43-9717-4976-9686-da137053ec7f"
      },
      "source": [
        "main(Q=1,lr=0.01,epochs=10)"
      ],
      "execution_count": null,
      "outputs": [
        {
          "output_type": "stream",
          "text": [
            "==> Preparing data..\n",
            "==> Building model..\n",
            "Epoch   1 Train Loss: 1.05731 Test Loss: 1.02524\n",
            "Epoch   2 Train Loss: 1.01618 Test Loss: 1.00431\n",
            "Epoch   3 Train Loss: 1.01047 Test Loss: 1.00759\n",
            "Epoch   4 Train Loss: 1.00905 Test Loss: 1.01655\n",
            "Epoch   5 Train Loss: 1.00723 Test Loss: 1.02427\n",
            "Epoch   6 Train Loss: 1.00577 Test Loss: 1.00949\n",
            "Epoch   7 Train Loss: 1.00568 Test Loss: 0.99874\n",
            "Epoch   8 Train Loss: 1.00472 Test Loss: 1.00307\n",
            "Epoch   9 Train Loss: 1.00412 Test Loss: 1.00019\n",
            "Epoch   10 Train Loss: 1.00398 Test Loss: 1.00199\n",
            "Epoch   11 Train Loss: 1.00364 Test Loss: 1.00311\n",
            "Epoch   12 Train Loss: 1.00336 Test Loss: 1.00209\n",
            "Epoch   13 Train Loss: 1.00319 Test Loss: 1.00250\n",
            "Epoch   14 Train Loss: 1.00298 Test Loss: 0.99881\n",
            "Epoch   15 Train Loss: 1.00285 Test Loss: 1.00131\n",
            "Epoch   16 Train Loss: 1.00249 Test Loss: 0.99828\n",
            "Epoch   17 Train Loss: 1.00234 Test Loss: 0.99898\n",
            "Epoch   18 Train Loss: 1.00223 Test Loss: 0.99888\n",
            "Epoch   19 Train Loss: 1.00211 Test Loss: 1.00152\n",
            "Epoch   20 Train Loss: 1.00036 Test Loss: 0.99786\n"
          ],
          "name": "stdout"
        },
        {
          "output_type": "display_data",
          "data": {
            "image/png": "[encoded data removed]",
            "text/plain": [
              "<Figure size 432x288 with 1 Axes>"
            ]
          },
          "metadata": {
            "tags": []
          }
        }
      ]
    },
    {
      "cell_type": "code",
      "metadata": {
        "colab": {
          "base_uri": "https://localhost:8080/",
          "height": 516
        },
        "id": "3JfKQAS9GdGt",
        "outputId": "3bd0bb34-3672-4f88-e724-670fee232bf1"
      },
      "source": [
        "main(Q=1,lr=0.001,epochs=10)"
      ],
      "execution_count": null,
      "outputs": [
        {
          "output_type": "stream",
          "text": [
            "==> Preparing data..\n",
            "==> Building model..\n",
            "==> Resuming from last epoch..\n",
            "Epoch   1 Train Loss: 1.00032 Test Loss: 0.99789\n",
            "Epoch   2 Train Loss: 1.00033 Test Loss: 0.99787\n",
            "Epoch   3 Train Loss: 1.00030 Test Loss: 0.99794\n",
            "Epoch   4 Train Loss: 1.00031 Test Loss: 0.99797\n",
            "Epoch   5 Train Loss: 1.00032 Test Loss: 0.99788\n",
            "Epoch   6 Train Loss: 1.00030 Test Loss: 0.99803\n",
            "Epoch   7 Train Loss: 1.00030 Test Loss: 0.99831\n",
            "Epoch   8 Train Loss: 1.00030 Test Loss: 0.99810\n",
            "Epoch   9 Train Loss: 1.00031 Test Loss: 0.99826\n",
            "Epoch   10 Train Loss: 1.00034 Test Loss: 0.99782\n"
          ],
          "name": "stdout"
        },
        {
          "output_type": "display_data",
          "data": {
            "image/png": "[encoded data removed]",
            "text/plain": [
              "<Figure size 432x288 with 1 Axes>"
            ]
          },
          "metadata": {
            "tags": []
          }
        }
      ]
    },
    {
      "cell_type": "markdown",
      "metadata": {
        "id": "_H_lPQLiaawe"
      },
      "source": [
        "### Q=2 MLP Training"
      ]
    },
    {
      "cell_type": "code",
      "metadata": {
        "colab": {
          "base_uri": "https://localhost:8080/",
          "height": 839
        },
        "id": "M6c1riWTY_Lg",
        "outputId": "de054b66-8db1-4bde-8466-926fe71b80f8"
      },
      "source": [
        "main(Q=2,lr=0.01,epochs=30)"
      ],
      "execution_count": null,
      "outputs": [
        {
          "output_type": "stream",
          "text": [
            "==> Preparing data..\n",
            "==> Building model..\n",
            "Epoch   1 Train Loss: 1.00774 Test Loss: 1.00451\n",
            "Epoch   2 Train Loss: 1.00735 Test Loss: 1.00652\n",
            "Epoch   3 Train Loss: 1.00653 Test Loss: 1.00514\n",
            "Epoch   4 Train Loss: 1.00621 Test Loss: 1.02548\n",
            "Epoch   5 Train Loss: 1.00542 Test Loss: 1.00417\n",
            "Epoch   6 Train Loss: 1.00525 Test Loss: 1.00690\n",
            "Epoch   7 Train Loss: 1.00506 Test Loss: 1.00627\n",
            "Epoch   8 Train Loss: 1.00458 Test Loss: 1.00334\n",
            "Epoch   9 Train Loss: 1.00428 Test Loss: 1.00563\n",
            "Epoch   10 Train Loss: 1.00010 Test Loss: 1.00296\n",
            "Epoch   11 Train Loss: 1.00007 Test Loss: 1.00311\n",
            "Epoch   12 Train Loss: 1.00012 Test Loss: 1.00301\n",
            "Epoch   13 Train Loss: 1.00004 Test Loss: 1.00309\n",
            "Epoch   14 Train Loss: 1.00004 Test Loss: 1.00339\n",
            "Epoch   15 Train Loss: 1.00007 Test Loss: 1.00342\n",
            "Epoch   16 Train Loss: 1.00006 Test Loss: 1.00321\n",
            "Epoch   17 Train Loss: 1.00008 Test Loss: 1.00306\n",
            "Epoch   18 Train Loss: 1.00005 Test Loss: 1.00342\n",
            "Epoch   19 Train Loss: 1.00010 Test Loss: 1.00300\n",
            "Epoch   20 Train Loss: 0.99983 Test Loss: 1.00276\n",
            "Epoch   21 Train Loss: 0.99983 Test Loss: 1.00277\n",
            "Epoch   22 Train Loss: 0.99983 Test Loss: 1.00276\n",
            "Epoch   23 Train Loss: 0.99982 Test Loss: 1.00281\n",
            "Epoch   24 Train Loss: 0.99982 Test Loss: 1.00274\n",
            "Epoch   25 Train Loss: 0.99982 Test Loss: 1.00280\n",
            "Epoch   26 Train Loss: 0.99981 Test Loss: 1.00277\n",
            "Epoch   27 Train Loss: 0.99982 Test Loss: 1.00277\n",
            "Epoch   28 Train Loss: 0.99981 Test Loss: 1.00279\n",
            "Epoch   29 Train Loss: 0.99982 Test Loss: 1.00277\n",
            "Epoch   30 Train Loss: 0.99980 Test Loss: 1.00275\n"
          ],
          "name": "stdout"
        },
        {
          "output_type": "display_data",
          "data": {
            "image/png": "[encoded data removed]",
            "text/plain": [
              "<Figure size 432x288 with 1 Axes>"
            ]
          },
          "metadata": {
            "tags": []
          }
        }
      ]
    },
    {
      "cell_type": "markdown",
      "metadata": {
        "id": "KfQ1kxyRk_hN"
      },
      "source": [
        "# Testing models : MLP Q=1"
      ]
    },
    {
      "cell_type": "code",
      "metadata": {
        "id": "1XP7i1h-mqw4"
      },
      "source": [
        "import torch\n",
        "import torch.nn as nn\n",
        "import torch.optim as optim\n",
        "import torch.nn.functional as F\n",
        "import torch.backends.cudnn as cudnn\n",
        "import matplotlib.pyplot as plt\n",
        "import numpy as np\n",
        "device = 'cuda' if torch.cuda.is_available() else 'cpu'"
      ],
      "execution_count": null,
      "outputs": []
    },
    {
      "cell_type": "code",
      "metadata": {
        "colab": {
          "base_uri": "https://localhost:8080/"
        },
        "id": "xqhlcUjFlgcz",
        "outputId": "cad01fdc-090e-47ef-fb22-63f97fe34606"
      },
      "source": [
        "net = DeepEEG_MLP_Model(97, 1)\n",
        "net = net.to(device)\n",
        "if device == 'cuda':\n",
        "    net = torch.nn.DataParallel(net)\n",
        "    cudnn.benchmark = True\n",
        "net.load_state_dict(torch.load('drive/My Drive/models/MLP_Q=1_model.pth'))"
      ],
      "execution_count": null,
      "outputs": [
        {
          "output_type": "execute_result",
          "data": {
            "text/plain": [
              "<All keys matched successfully>"
            ]
          },
          "metadata": {
            "tags": []
          },
          "execution_count": 6
        }
      ]
    },
    {
      "cell_type": "code",
      "metadata": {
        "id": "OrNpZ14nlgVI"
      },
      "source": [
        "X=np.load('drive/My Drive/Dataset/X_Q_1_MLP.npy')\n",
        "Y=np.load('drive/My Drive/Dataset/Y_Q_1_MLP.npy')"
      ],
      "execution_count": null,
      "outputs": []
    },
    {
      "cell_type": "code",
      "metadata": {
        "colab": {
          "base_uri": "https://localhost:8080/"
        },
        "id": "q9XJSN3VZPVW",
        "outputId": "98d89da7-1c2d-40c0-a56f-e0060f6f0782"
      },
      "source": [
        "print(X.shape, Y.shape)"
      ],
      "execution_count": null,
      "outputs": [
        {
          "output_type": "stream",
          "text": [
            "(1486881, 97) (1486881, 3)\n"
          ],
          "name": "stdout"
        }
      ]
    },
    {
      "cell_type": "code",
      "metadata": {
        "id": "RKlLG5s3lgNT"
      },
      "source": [
        "x=torch.from_numpy(X[100:300]).to(device)\n",
        "y=Y[100:300]\n",
        "y_=net(x).to('cpu').detach().numpy()"
      ],
      "execution_count": null,
      "outputs": []
    },
    {
      "cell_type": "code",
      "metadata": {
        "id": "G5PRvcZSpxMY"
      },
      "source": [
        "y_stddev=np.array([[32.52091561], [39.55741222], [32.56242532]]).T"
      ],
      "execution_count": null,
      "outputs": []
    },
    {
      "cell_type": "code",
      "metadata": {
        "id": "HQUcQ-TlojzX"
      },
      "source": [
        "eucl_dist=np.sqrt(np.sum((y_stddev*(y-y_))**2,axis=1))"
      ],
      "execution_count": null,
      "outputs": []
    },
    {
      "cell_type": "code",
      "metadata": {
        "colab": {
          "base_uri": "https://localhost:8080/"
        },
        "id": "rd5Gd68WoFE1",
        "outputId": "4bc602e5-f9b0-45e0-b6e8-663389665a71"
      },
      "source": [
        "print(eucl_dist.mean())"
      ],
      "execution_count": null,
      "outputs": [
        {
          "output_type": "stream",
          "text": [
            "58.72493161150442\n"
          ],
          "name": "stdout"
        }
      ]
    },
    {
      "cell_type": "code",
      "metadata": {
        "colab": {
          "base_uri": "https://localhost:8080/"
        },
        "id": "8VZyhFucZ2np",
        "outputId": "e51422e1-1d0b-44d5-955b-84193883b1c9"
      },
      "source": [
        "print(eucl_dist.min())"
      ],
      "execution_count": null,
      "outputs": [
        {
          "output_type": "stream",
          "text": [
            "11.850801125511977\n"
          ],
          "name": "stdout"
        }
      ]
    },
    {
      "cell_type": "markdown",
      "metadata": {
        "id": "aAFG8tDAqTzG"
      },
      "source": [
        "# Testing models : MLP Q=2"
      ]
    },
    {
      "cell_type": "code",
      "metadata": {
        "id": "3D1K14QLqTzG"
      },
      "source": [
        "device = 'cuda' if torch.cuda.is_available() else 'cpu'"
      ],
      "execution_count": null,
      "outputs": []
    },
    {
      "cell_type": "code",
      "metadata": {
        "colab": {
          "base_uri": "https://localhost:8080/"
        },
        "id": "06UF0EC4qTzH",
        "outputId": "0d79c72a-703d-4861-e8a3-6df4c9406f10"
      },
      "source": [
        "net = DeepEEG_MLP_Model(97, 2)\n",
        "net = net.to(device)\n",
        "if device == 'cuda':\n",
        "    net = torch.nn.DataParallel(net)\n",
        "    cudnn.benchmark = True\n",
        "net.load_state_dict(torch.load('drive/My Drive/models/MLP_Q=2_model.pth'))"
      ],
      "execution_count": null,
      "outputs": [
        {
          "output_type": "execute_result",
          "data": {
            "text/plain": [
              "<All keys matched successfully>"
            ]
          },
          "metadata": {
            "tags": []
          },
          "execution_count": 16
        }
      ]
    },
    {
      "cell_type": "code",
      "metadata": {
        "id": "1iyKMLKDqTzI"
      },
      "source": [
        "X=np.load('drive/My Drive/Dataset/X_Q_2_MLP.npy')\n",
        "Y=np.load('drive/My Drive/Dataset/Y_Q_2_MLP.npy')"
      ],
      "execution_count": null,
      "outputs": []
    },
    {
      "cell_type": "code",
      "metadata": {
        "colab": {
          "base_uri": "https://localhost:8080/"
        },
        "id": "LpGFV1praNuw",
        "outputId": "a67fa7b3-7db9-404c-fbf8-7c8dd5cd908c"
      },
      "source": [
        "print(X.shape, Y.shape)"
      ],
      "execution_count": null,
      "outputs": [
        {
          "output_type": "stream",
          "text": [
            "(625000, 97) (625000, 6)\n"
          ],
          "name": "stdout"
        }
      ]
    },
    {
      "cell_type": "code",
      "metadata": {
        "id": "p8Z7sHaJqTzI"
      },
      "source": [
        "x=torch.from_numpy(X[100:200]).to(device)\n",
        "y=Y[100:200]\n",
        "y_=net(x).to('cpu').detach().numpy()"
      ],
      "execution_count": null,
      "outputs": []
    },
    {
      "cell_type": "code",
      "metadata": {
        "id": "Gj7cPdrMqTzI"
      },
      "source": [
        "y_stddev=np.array([[30.23864226], [32.94725408], [34.24295688], [30.23864226], [32.94725408], [34.24295688]]).T"
      ],
      "execution_count": null,
      "outputs": []
    },
    {
      "cell_type": "code",
      "metadata": {
        "id": "k2Yn6fZwqTzI"
      },
      "source": [
        "eucl_dist=(y_stddev*(y-y_))**2\n",
        "eucl_dist_1=np.sqrt(np.sum(eucl_dist[:,:3],axis=1))\n",
        "eucl_dist_2=np.sqrt(np.sum(eucl_dist[:,3:],axis=1))"
      ],
      "execution_count": null,
      "outputs": []
    },
    {
      "cell_type": "code",
      "metadata": {
        "colab": {
          "base_uri": "https://localhost:8080/"
        },
        "id": "KyE42iuOqTzJ",
        "outputId": "637fbae2-0ac0-4443-f227-6d6c542aef64"
      },
      "source": [
        "print(eucl_dist_1.mean())\n",
        "# print(eucl_dist_1)"
      ],
      "execution_count": null,
      "outputs": [
        {
          "output_type": "stream",
          "text": [
            "54.07532207704922\n"
          ],
          "name": "stdout"
        }
      ]
    },
    {
      "cell_type": "code",
      "metadata": {
        "colab": {
          "base_uri": "https://localhost:8080/"
        },
        "id": "Pw-GVtGMa2HD",
        "outputId": "2e0c453b-7ce8-4f43-dc30-bd83516ea18f"
      },
      "source": [
        "print(eucl_dist_1.min())"
      ],
      "execution_count": null,
      "outputs": [
        {
          "output_type": "stream",
          "text": [
            "8.372657482653224\n"
          ],
          "name": "stdout"
        }
      ]
    },
    {
      "cell_type": "code",
      "metadata": {
        "colab": {
          "base_uri": "https://localhost:8080/"
        },
        "id": "cUUYIAmfrT6q",
        "outputId": "ead6070a-6c67-4993-9754-ca3ccedeefae"
      },
      "source": [
        "print(eucl_dist_2.mean())\n",
        "print(eucl_dist_2.min())"
      ],
      "execution_count": null,
      "outputs": [
        {
          "output_type": "stream",
          "text": [
            "55.586021954754145\n",
            "16.91903029555643\n"
          ],
          "name": "stdout"
        }
      ]
    },
    {
      "cell_type": "markdown",
      "metadata": {
        "id": "vRPwTAlcjpEO"
      },
      "source": [
        "# Dataset Q=1 Preprocessing for CNN - Random shuffle and normalisation"
      ]
    },
    {
      "cell_type": "code",
      "metadata": {
        "id": "UC9uI8y0jpEb"
      },
      "source": [
        "import numpy as np\n",
        "path = 'drive/MyDrive/'"
      ],
      "execution_count": null,
      "outputs": []
    },
    {
      "cell_type": "code",
      "metadata": {
        "id": "5TOGlLDkjpEc"
      },
      "source": [
        "Q=1\n",
        "data_x=np.load(path+'X_Q=%d_CNN.npy'%Q).astype(np.float32)\n",
        "data_y=np.load(path+'Y_Q=%d_CNN.npy'%Q).astype(np.float32) # labels"
      ],
      "execution_count": null,
      "outputs": []
    },
    {
      "cell_type": "code",
      "metadata": {
        "colab": {
          "base_uri": "https://localhost:8080/"
        },
        "id": "8IY96bWUjpEd",
        "outputId": "c0dbe7c7-5808-49d6-e3f9-b725f64b141c"
      },
      "source": [
        "print(data_x.shape, data_y.shape, data_x.dtype, data_y.dtype)"
      ],
      "execution_count": null,
      "outputs": [
        {
          "output_type": "stream",
          "text": [
            "(215271, 97, 16) (215271, 3) float32 float32\n"
          ],
          "name": "stdout"
        }
      ]
    },
    {
      "cell_type": "code",
      "metadata": {
        "colab": {
          "base_uri": "https://localhost:8080/"
        },
        "id": "Ls8vJqO0kKY6",
        "outputId": "5bd0c108-6c3c-49ce-bb33-c4641f11f98d"
      },
      "source": [
        "data_x[0,0]"
      ],
      "execution_count": null,
      "outputs": [
        {
          "output_type": "execute_result",
          "data": {
            "text/plain": [
              "array([ 0.0015235,  0.002833 ,  0.0037447,  0.0041304,  0.003936 ,\n",
              "        0.0031888,  0.0019938,  0.0005187, -0.0010292, -0.0024326,\n",
              "       -0.0034943, -0.0040652, -0.0040652, -0.0034943, -0.0024326,\n",
              "       -0.0010292], dtype=float32)"
            ]
          },
          "metadata": {
            "tags": []
          },
          "execution_count": 6
        }
      ]
    },
    {
      "cell_type": "code",
      "metadata": {
        "colab": {
          "base_uri": "https://localhost:8080/"
        },
        "id": "u5HjhxBbkjYk",
        "outputId": "91ead95d-be42-48bc-ebc5-b50a45020ea9"
      },
      "source": [
        "data_y[0]"
      ],
      "execution_count": null,
      "outputs": [
        {
          "output_type": "execute_result",
          "data": {
            "text/plain": [
              "array([ 27.5, -65. , -60. ], dtype=float32)"
            ]
          },
          "metadata": {
            "tags": []
          },
          "execution_count": 7
        }
      ]
    },
    {
      "cell_type": "code",
      "metadata": {
        "id": "myXU7tBNjpEe"
      },
      "source": [
        "# normalise the data (x,y)\n",
        "x_mean=data_x.mean(axis=0,keepdims=True)\n",
        "x_std=data_x.std(axis=0,keepdims=True)\n",
        "y_mean=data_y.mean(axis=0,keepdims=True)\n",
        "y_std=data_y.std(axis=0,keepdims=True)"
      ],
      "execution_count": null,
      "outputs": []
    },
    {
      "cell_type": "code",
      "metadata": {
        "colab": {
          "base_uri": "https://localhost:8080/"
        },
        "id": "fjU6KMOPjpEf",
        "outputId": "d0359fcf-077c-493b-abac-be3ecf74c6ab"
      },
      "source": [
        "y_std"
      ],
      "execution_count": null,
      "outputs": [
        {
          "output_type": "execute_result",
          "data": {
            "text/plain": [
              "array([[35.536068, 40.47435 , 22.800743]], dtype=float32)"
            ]
          },
          "metadata": {
            "tags": []
          },
          "execution_count": 9
        }
      ]
    },
    {
      "cell_type": "code",
      "metadata": {
        "colab": {
          "base_uri": "https://localhost:8080/"
        },
        "id": "9Uyc-HPujpEf",
        "outputId": "4546f8ab-bea7-4778-c7e2-b337a2719dff"
      },
      "source": [
        "print(x_mean.shape,x_std.shape,y_mean.shape,y_std.shape)"
      ],
      "execution_count": null,
      "outputs": [
        {
          "output_type": "stream",
          "text": [
            "(1, 97, 16) (1, 97, 16) (1, 3) (1, 3)\n"
          ],
          "name": "stdout"
        }
      ]
    },
    {
      "cell_type": "code",
      "metadata": {
        "id": "cW3k2fUijpEg"
      },
      "source": [
        "# print(x_mean,x_std,y_mean,y_std)"
      ],
      "execution_count": null,
      "outputs": []
    },
    {
      "cell_type": "code",
      "metadata": {
        "id": "yxGWFlimjpEg"
      },
      "source": [
        "data_x-=x_mean\n",
        "data_x/=x_std\n",
        "data_y-=y_mean\n",
        "data_y/=y_std"
      ],
      "execution_count": null,
      "outputs": []
    },
    {
      "cell_type": "code",
      "metadata": {
        "colab": {
          "base_uri": "https://localhost:8080/"
        },
        "id": "a4srAeHfjpEg",
        "outputId": "eab939cb-431f-4a07-f932-759aae75d4ac"
      },
      "source": [
        "# random shuffling of data\n",
        "data = np.hstack((data_x.reshape((215271,-1)),data_y))\n",
        "data.shape"
      ],
      "execution_count": null,
      "outputs": [
        {
          "output_type": "execute_result",
          "data": {
            "text/plain": [
              "(215271, 1555)"
            ]
          },
          "metadata": {
            "tags": []
          },
          "execution_count": 14
        }
      ]
    },
    {
      "cell_type": "code",
      "metadata": {
        "id": "EhHU55hPjpEh"
      },
      "source": [
        "# print(data[0,:5])\n",
        "np.random.shuffle(data)\n",
        "# print(data[0,:5])"
      ],
      "execution_count": null,
      "outputs": []
    },
    {
      "cell_type": "code",
      "metadata": {
        "colab": {
          "base_uri": "https://localhost:8080/"
        },
        "id": "xx3SP43djpEh",
        "outputId": "0493997e-c12f-4dd1-c4de-189c9aa21ae2"
      },
      "source": [
        "data_x=data[:,:-3].reshape((-1,97,16))\n",
        "data_y=data[:,-3:]\n",
        "print(data_x.shape,data_y.shape)"
      ],
      "execution_count": null,
      "outputs": [
        {
          "output_type": "stream",
          "text": [
            "(215271, 97, 16) (215271, 3)\n"
          ],
          "name": "stdout"
        }
      ]
    },
    {
      "cell_type": "code",
      "metadata": {
        "colab": {
          "base_uri": "https://localhost:8080/"
        },
        "id": "vpoPew-4lHkj",
        "outputId": "6467e09a-93a3-4bb8-8174-00b249321490"
      },
      "source": [
        "print(data_x.shape, data_y.shape)"
      ],
      "execution_count": null,
      "outputs": [
        {
          "output_type": "stream",
          "text": [
            "(215271, 97, 16) (215271, 3)\n"
          ],
          "name": "stdout"
        }
      ]
    },
    {
      "cell_type": "code",
      "metadata": {
        "id": "kiQOin6XjpEi"
      },
      "source": [
        "np.save(path+'Dataset/X_Q_%d_CNN.npy'%Q,data_x)\n",
        "np.save(path+'Dataset/Y_Q_%d_CNN.npy'%Q,data_y)"
      ],
      "execution_count": null,
      "outputs": []
    },
    {
      "cell_type": "markdown",
      "metadata": {
        "id": "uMFEkd8rlbOo"
      },
      "source": [
        "# Dataset Q=2 Preprocessing for CNN - Random shuffle and normalisation"
      ]
    },
    {
      "cell_type": "code",
      "metadata": {
        "id": "hGjQ8PsOlbOp"
      },
      "source": [
        "import numpy as np\n",
        "path = 'drive/MyDrive/'"
      ],
      "execution_count": null,
      "outputs": []
    },
    {
      "cell_type": "code",
      "metadata": {
        "id": "JH726g7QlbOz"
      },
      "source": [
        "Q=2\n",
        "data_x=np.load(path+'X_Q=%d_CNN.npy'%Q).astype(np.float32)\n",
        "data_y=np.load(path+'Y_Q=%d_CNN.npy'%Q).astype(np.float32) # labels"
      ],
      "execution_count": null,
      "outputs": []
    },
    {
      "cell_type": "code",
      "metadata": {
        "colab": {
          "base_uri": "https://localhost:8080/"
        },
        "id": "euO7hb_ilbOz",
        "outputId": "327fd2f5-f40a-43fa-fccd-586d582315df"
      },
      "source": [
        "print(data_x.shape, data_y.shape, data_x.dtype, data_y.dtype)"
      ],
      "execution_count": null,
      "outputs": [
        {
          "output_type": "stream",
          "text": [
            "(175000, 97, 16) (175000, 6) float32 float32\n"
          ],
          "name": "stdout"
        }
      ]
    },
    {
      "cell_type": "code",
      "metadata": {
        "colab": {
          "base_uri": "https://localhost:8080/"
        },
        "id": "vJ1oPmBblbO0",
        "outputId": "552609b7-7e22-4c54-bc7d-4f8c219841b2"
      },
      "source": [
        "data_x[0,0]"
      ],
      "execution_count": null,
      "outputs": [
        {
          "output_type": "execute_result",
          "data": {
            "text/plain": [
              "array([-0.0037015, -0.0072199, -0.0097243, -0.010863 , -0.010476 ,\n",
              "       -0.0086176, -0.0055489, -0.001701 ,  0.0023859,  0.0061377,\n",
              "        0.0090274,  0.010649 ,  0.010776 ,  0.0093884,  0.0066826,\n",
              "        0.0030383], dtype=float32)"
            ]
          },
          "metadata": {
            "tags": []
          },
          "execution_count": 9
        }
      ]
    },
    {
      "cell_type": "code",
      "metadata": {
        "colab": {
          "base_uri": "https://localhost:8080/"
        },
        "id": "N6LPWTLglbO0",
        "outputId": "9585fca1-c572-4745-848e-e8357bfa4e1b"
      },
      "source": [
        "data_y[0]"
      ],
      "execution_count": null,
      "outputs": [
        {
          "output_type": "execute_result",
          "data": {
            "text/plain": [
              "array([-37.5, -60. , -60. , -37.5, -60. , -45. ], dtype=float32)"
            ]
          },
          "metadata": {
            "tags": []
          },
          "execution_count": 10
        }
      ]
    },
    {
      "cell_type": "code",
      "metadata": {
        "id": "Cx6XiVV6lbO0"
      },
      "source": [
        "# normalise the data (x,y)\n",
        "x_mean=data_x.mean(axis=0,keepdims=True)\n",
        "x_std=data_x.std(axis=0,keepdims=True)\n",
        "y_mean=data_y.mean(axis=0,keepdims=True)\n",
        "y_std=data_y.std(axis=0,keepdims=True)"
      ],
      "execution_count": null,
      "outputs": []
    },
    {
      "cell_type": "code",
      "metadata": {
        "colab": {
          "base_uri": "https://localhost:8080/"
        },
        "id": "Zc459maelbO1",
        "outputId": "aab673dd-b97e-4631-8b43-e91755ca78eb"
      },
      "source": [
        "y_std"
      ],
      "execution_count": null,
      "outputs": [
        {
          "output_type": "execute_result",
          "data": {
            "text/plain": [
              "array([[30.238642, 32.947254, 34.24296 , 30.238642, 32.947254, 34.242958]],\n",
              "      dtype=float32)"
            ]
          },
          "metadata": {
            "tags": []
          },
          "execution_count": 12
        }
      ]
    },
    {
      "cell_type": "code",
      "metadata": {
        "colab": {
          "base_uri": "https://localhost:8080/"
        },
        "id": "I2OxeOjUlbO1",
        "outputId": "dc50bdb9-aa46-4b9c-97a1-085dee5c9da8"
      },
      "source": [
        "print(x_mean.shape,x_std.shape,y_mean.shape,y_std.shape)"
      ],
      "execution_count": null,
      "outputs": [
        {
          "output_type": "stream",
          "text": [
            "(1, 97, 16) (1, 97, 16) (1, 6) (1, 6)\n"
          ],
          "name": "stdout"
        }
      ]
    },
    {
      "cell_type": "code",
      "metadata": {
        "id": "ojebjLZHlbO2"
      },
      "source": [
        "# print(x_mean,x_std,y_mean,y_std)"
      ],
      "execution_count": null,
      "outputs": []
    },
    {
      "cell_type": "code",
      "metadata": {
        "id": "xlZZbpkklbO2"
      },
      "source": [
        "data_x-=x_mean\n",
        "# data_x/=x_std\n",
        "data_y-=y_mean\n",
        "data_y/=y_std"
      ],
      "execution_count": null,
      "outputs": []
    },
    {
      "cell_type": "code",
      "metadata": {
        "colab": {
          "base_uri": "https://localhost:8080/"
        },
        "id": "rhY0DET9lbO2",
        "outputId": "0d3d16bb-793b-4a77-99b2-30c02cac873c"
      },
      "source": [
        "# random shuffling of data\n",
        "data = np.hstack((data_x.reshape((175000,-1)),data_y))\n",
        "data.shape"
      ],
      "execution_count": null,
      "outputs": [
        {
          "output_type": "execute_result",
          "data": {
            "text/plain": [
              "(175000, 1558)"
            ]
          },
          "metadata": {
            "tags": []
          },
          "execution_count": 16
        }
      ]
    },
    {
      "cell_type": "code",
      "metadata": {
        "id": "66dqNSeqlbO2"
      },
      "source": [
        "# print(data[0,:5])\n",
        "np.random.shuffle(data)\n",
        "# print(data[0,:5])"
      ],
      "execution_count": null,
      "outputs": []
    },
    {
      "cell_type": "code",
      "metadata": {
        "colab": {
          "base_uri": "https://localhost:8080/"
        },
        "id": "SHHpHszUlbO3",
        "outputId": "a9a29a8a-1c83-48fd-bcc4-c423afda5dec"
      },
      "source": [
        "data_x=data[:,:-6].reshape((-1,97,16))\n",
        "data_y=data[:,-6:]\n",
        "print(data_x.shape,data_y.shape)"
      ],
      "execution_count": null,
      "outputs": [
        {
          "output_type": "stream",
          "text": [
            "(175000, 97, 16) (175000, 6)\n"
          ],
          "name": "stdout"
        }
      ]
    },
    {
      "cell_type": "code",
      "metadata": {
        "colab": {
          "base_uri": "https://localhost:8080/"
        },
        "id": "noFvEeF-lbO3",
        "outputId": "fd4d2f64-1e65-45d6-da25-5921ed12a2ef"
      },
      "source": [
        "print(data_x.shape, data_y.shape)"
      ],
      "execution_count": null,
      "outputs": [
        {
          "output_type": "stream",
          "text": [
            "(175000, 97, 16) (175000, 6)\n"
          ],
          "name": "stdout"
        }
      ]
    },
    {
      "cell_type": "code",
      "metadata": {
        "id": "HhR70K3blbO3"
      },
      "source": [
        "np.save(path+'Dataset/X_Q_%d_CNN.npy'%Q,data_x)\n",
        "np.save(path+'Dataset/Y_Q_%d_CNN.npy'%Q,data_y)"
      ],
      "execution_count": null,
      "outputs": []
    },
    {
      "cell_type": "markdown",
      "metadata": {
        "id": "SrtxEvFyvfzy"
      },
      "source": [
        "# Engineering CNN Model for EEG Source Localisation"
      ]
    },
    {
      "cell_type": "code",
      "metadata": {
        "id": "0XjEx9-l8wN6"
      },
      "source": [
        "import torch\n",
        "import torch.nn as nn"
      ],
      "execution_count": null,
      "outputs": []
    },
    {
      "cell_type": "code",
      "metadata": {
        "colab": {
          "base_uri": "https://localhost:8080/"
        },
        "id": "JvN5kW7naO3E",
        "outputId": "c7ed1e4c-7901-44b0-fd4c-e88cd0410446"
      },
      "source": [
        "[1]*5"
      ],
      "execution_count": null,
      "outputs": [
        {
          "output_type": "execute_result",
          "data": {
            "text/plain": [
              "[1, 1, 1, 1, 1]"
            ]
          },
          "metadata": {
            "tags": []
          },
          "execution_count": 3
        }
      ]
    },
    {
      "cell_type": "code",
      "metadata": {
        "id": "rxcuZMYM8x4E"
      },
      "source": [
        "conv=[nn.Conv1d(in_channels=1, out_channels=32, kernel_size=5)]*97"
      ],
      "execution_count": null,
      "outputs": []
    },
    {
      "cell_type": "code",
      "metadata": {
        "colab": {
          "base_uri": "https://localhost:8080/"
        },
        "id": "UHCXX9RC8x1m",
        "outputId": "2e8f30c2-1c59-4f03-fce7-8e3b4f4956f1"
      },
      "source": [
        "inp=torch.ones((1,2,2))\n",
        "print(inp.shape)\n",
        "print(inp[0])"
      ],
      "execution_count": null,
      "outputs": [
        {
          "output_type": "stream",
          "text": [
            "torch.Size([1, 2, 2])\n",
            "tensor([[1., 1.],\n",
            "        [1., 1.]])\n"
          ],
          "name": "stdout"
        }
      ]
    },
    {
      "cell_type": "code",
      "metadata": {
        "colab": {
          "base_uri": "https://localhost:8080/"
        },
        "id": "u7cZ3hsFBqka",
        "outputId": "47fe7d09-a32a-40bc-c7f1-d5179096c1af"
      },
      "source": [
        "inp=torch.unsqueeze(inp,2)\n",
        "inp.shape"
      ],
      "execution_count": null,
      "outputs": [
        {
          "output_type": "execute_result",
          "data": {
            "text/plain": [
              "torch.Size([1, 2, 1, 2])"
            ]
          },
          "metadata": {
            "tags": []
          },
          "execution_count": 43
        }
      ]
    },
    {
      "cell_type": "code",
      "metadata": {
        "colab": {
          "base_uri": "https://localhost:8080/"
        },
        "id": "aiXJtvwxCDHP",
        "outputId": "15b80b48-949f-4a3f-8bcb-a275d1c7188b"
      },
      "source": [
        "print(inp[0])"
      ],
      "execution_count": null,
      "outputs": [
        {
          "output_type": "stream",
          "text": [
            "tensor([[[1., 1.]],\n",
            "\n",
            "        [[1., 1.]]])\n"
          ],
          "name": "stdout"
        }
      ]
    },
    {
      "cell_type": "code",
      "metadata": {
        "colab": {
          "base_uri": "https://localhost:8080/"
        },
        "id": "r_hi8UCtA0XF",
        "outputId": "2ec03a65-8622-4aa6-ba53-6bf7b0eee6b3"
      },
      "source": [
        "c=nn.Conv1d(in_channels=1, out_channels=32, kernel_size=5)\n",
        "c(torch.rand((1,1,50))) # batch_size, in_channels, num_of_samples_from_time"
      ],
      "execution_count": null,
      "outputs": [
        {
          "output_type": "execute_result",
          "data": {
            "text/plain": [
              "tensor([[[-0.0046, -0.0552, -0.2932,  ..., -0.2048,  0.2789,  0.0527],\n",
              "         [-0.4330, -0.1782, -0.1129,  ..., -0.2589, -0.2391, -0.1761],\n",
              "         [ 0.0757,  0.0628, -0.2210,  ..., -0.2880, -0.0476, -0.0350],\n",
              "         ...,\n",
              "         [-0.6165, -0.4769, -0.4129,  ..., -0.4412, -0.1793, -0.3221],\n",
              "         [ 0.3755,  0.4273,  0.1089,  ..., -0.0619,  0.4544,  0.5194],\n",
              "         [-0.0310, -0.1966,  0.2282,  ...,  0.3924,  0.0740,  0.1449]]],\n",
              "       grad_fn=<SqueezeBackward1>)"
            ]
          },
          "metadata": {
            "tags": []
          },
          "execution_count": 45
        }
      ]
    },
    {
      "cell_type": "code",
      "metadata": {
        "id": "RmcMc9nr9yzv"
      },
      "source": [
        "inp=torch.rand((2,97,50))\n",
        "inp = torch.unsqueeze(inp,2)\n",
        "out=0\n",
        "for row in range(97):\n",
        "  y=conv[row](inp[:,row])\n",
        "  out+=y\n",
        "  # print(y.shape)"
      ],
      "execution_count": null,
      "outputs": []
    },
    {
      "cell_type": "code",
      "metadata": {
        "colab": {
          "base_uri": "https://localhost:8080/"
        },
        "id": "OG2-Hy5p9Gge",
        "outputId": "36b315ee-7fab-4d5c-dfbd-9b97b9aa6d48"
      },
      "source": [
        "out.shape"
      ],
      "execution_count": null,
      "outputs": [
        {
          "output_type": "execute_result",
          "data": {
            "text/plain": [
              "torch.Size([2, 32, 46])"
            ]
          },
          "metadata": {
            "tags": []
          },
          "execution_count": 52
        }
      ]
    },
    {
      "cell_type": "code",
      "metadata": {
        "colab": {
          "base_uri": "https://localhost:8080/"
        },
        "id": "psY6Td8KDsJ2",
        "outputId": "acc1225f-6ef3-4ddc-911a-f3ea14b28385"
      },
      "source": [
        "out=out.view(out.size(0),-1)\n",
        "out.shape"
      ],
      "execution_count": null,
      "outputs": [
        {
          "output_type": "execute_result",
          "data": {
            "text/plain": [
              "torch.Size([2, 1472])"
            ]
          },
          "metadata": {
            "tags": []
          },
          "execution_count": 53
        }
      ]
    },
    {
      "cell_type": "markdown",
      "metadata": {
        "id": "0gEfDbuGGeP4"
      },
      "source": [
        "# Deep EEG - Convolutional Neural Network"
      ]
    },
    {
      "cell_type": "code",
      "metadata": {
        "id": "ANQ4hm_rvfDc"
      },
      "source": [
        "import torch\n",
        "import torch.nn as nn\n",
        "\n",
        "class DeepEEG_CNN(nn.Module): \n",
        "  def __init__(self, M, num_of_samples, L, Q):\n",
        "    super(DeepEEG_CNN, self).__init__()\n",
        "    self.conv = nn.ModuleList([nn.Conv1d(in_channels=1, out_channels=L, kernel_size=5) for i in range(M)])\n",
        "    self.fc1 = nn.Linear(384, 3000)\n",
        "    self.fc2 = nn.Linear(3000, 2500)\n",
        "    self.fc3 = nn.Linear(2500, 1200)\n",
        "    self.fc4 = nn.Linear(1200, 3*Q) #3 coordinates for each ECD source\n",
        "\n",
        "  def forward(self,inp):\n",
        "    inp = torch.unsqueeze(inp,2)\n",
        "    out=0\n",
        "    for row in range(inp.shape[1]):\n",
        "      out+=self.conv[row](inp[:,row])\n",
        "    out=out.view(out.size(0),-1)\n",
        "    out = torch.sigmoid(self.fc1(out))\n",
        "    out = torch.sigmoid(self.fc2(out))\n",
        "    out = torch.sigmoid(self.fc3(out))\n",
        "    out = self.fc4(out)\n",
        "    return out\n",
        "\n",
        "def DeepEEG_CNN_Model(M=97, num_of_samples=16, L=32, Q=1):\n",
        "  # M - number of sensors\n",
        "  # num_of_samples - across time\n",
        "  # Q - number of equivalent current dipole (ECD) sources \n",
        "  return DeepEEG_CNN(M, num_of_samples, L, Q)"
      ],
      "execution_count": null,
      "outputs": []
    },
    {
      "cell_type": "code",
      "metadata": {
        "colab": {
          "base_uri": "https://localhost:8080/"
        },
        "id": "8OzH8HHREpsc",
        "outputId": "f39162b3-074b-49d8-b83a-6cc09a07742f"
      },
      "source": [
        "from torchsummary import summary\n",
        "net = DeepEEG_CNN_Model(97, 16, 32, 2)\n",
        "# summary(net, input_size=(97,16))\n",
        "net"
      ],
      "execution_count": null,
      "outputs": [
        {
          "output_type": "execute_result",
          "data": {
            "text/plain": [
              "DeepEEG_CNN(\n",
              "  (conv): ModuleList(\n",
              "    (0): Conv1d(1, 32, kernel_size=(5,), stride=(1,))\n",
              "    (1): Conv1d(1, 32, kernel_size=(5,), stride=(1,))\n",
              "    (2): Conv1d(1, 32, kernel_size=(5,), stride=(1,))\n",
              "    (3): Conv1d(1, 32, kernel_size=(5,), stride=(1,))\n",
              "    (4): Conv1d(1, 32, kernel_size=(5,), stride=(1,))\n",
              "    (5): Conv1d(1, 32, kernel_size=(5,), stride=(1,))\n",
              "    (6): Conv1d(1, 32, kernel_size=(5,), stride=(1,))\n",
              "    (7): Conv1d(1, 32, kernel_size=(5,), stride=(1,))\n",
              "    (8): Conv1d(1, 32, kernel_size=(5,), stride=(1,))\n",
              "    (9): Conv1d(1, 32, kernel_size=(5,), stride=(1,))\n",
              "    (10): Conv1d(1, 32, kernel_size=(5,), stride=(1,))\n",
              "    (11): Conv1d(1, 32, kernel_size=(5,), stride=(1,))\n",
              "    (12): Conv1d(1, 32, kernel_size=(5,), stride=(1,))\n",
              "    (13): Conv1d(1, 32, kernel_size=(5,), stride=(1,))\n",
              "    (14): Conv1d(1, 32, kernel_size=(5,), stride=(1,))\n",
              "    (15): Conv1d(1, 32, kernel_size=(5,), stride=(1,))\n",
              "    (16): Conv1d(1, 32, kernel_size=(5,), stride=(1,))\n",
              "    (17): Conv1d(1, 32, kernel_size=(5,), stride=(1,))\n",
              "    (18): Conv1d(1, 32, kernel_size=(5,), stride=(1,))\n",
              "    (19): Conv1d(1, 32, kernel_size=(5,), stride=(1,))\n",
              "    (20): Conv1d(1, 32, kernel_size=(5,), stride=(1,))\n",
              "    (21): Conv1d(1, 32, kernel_size=(5,), stride=(1,))\n",
              "    (22): Conv1d(1, 32, kernel_size=(5,), stride=(1,))\n",
              "    (23): Conv1d(1, 32, kernel_size=(5,), stride=(1,))\n",
              "    (24): Conv1d(1, 32, kernel_size=(5,), stride=(1,))\n",
              "    (25): Conv1d(1, 32, kernel_size=(5,), stride=(1,))\n",
              "    (26): Conv1d(1, 32, kernel_size=(5,), stride=(1,))\n",
              "    (27): Conv1d(1, 32, kernel_size=(5,), stride=(1,))\n",
              "    (28): Conv1d(1, 32, kernel_size=(5,), stride=(1,))\n",
              "    (29): Conv1d(1, 32, kernel_size=(5,), stride=(1,))\n",
              "    (30): Conv1d(1, 32, kernel_size=(5,), stride=(1,))\n",
              "    (31): Conv1d(1, 32, kernel_size=(5,), stride=(1,))\n",
              "    (32): Conv1d(1, 32, kernel_size=(5,), stride=(1,))\n",
              "    (33): Conv1d(1, 32, kernel_size=(5,), stride=(1,))\n",
              "    (34): Conv1d(1, 32, kernel_size=(5,), stride=(1,))\n",
              "    (35): Conv1d(1, 32, kernel_size=(5,), stride=(1,))\n",
              "    (36): Conv1d(1, 32, kernel_size=(5,), stride=(1,))\n",
              "    (37): Conv1d(1, 32, kernel_size=(5,), stride=(1,))\n",
              "    (38): Conv1d(1, 32, kernel_size=(5,), stride=(1,))\n",
              "    (39): Conv1d(1, 32, kernel_size=(5,), stride=(1,))\n",
              "    (40): Conv1d(1, 32, kernel_size=(5,), stride=(1,))\n",
              "    (41): Conv1d(1, 32, kernel_size=(5,), stride=(1,))\n",
              "    (42): Conv1d(1, 32, kernel_size=(5,), stride=(1,))\n",
              "    (43): Conv1d(1, 32, kernel_size=(5,), stride=(1,))\n",
              "    (44): Conv1d(1, 32, kernel_size=(5,), stride=(1,))\n",
              "    (45): Conv1d(1, 32, kernel_size=(5,), stride=(1,))\n",
              "    (46): Conv1d(1, 32, kernel_size=(5,), stride=(1,))\n",
              "    (47): Conv1d(1, 32, kernel_size=(5,), stride=(1,))\n",
              "    (48): Conv1d(1, 32, kernel_size=(5,), stride=(1,))\n",
              "    (49): Conv1d(1, 32, kernel_size=(5,), stride=(1,))\n",
              "    (50): Conv1d(1, 32, kernel_size=(5,), stride=(1,))\n",
              "    (51): Conv1d(1, 32, kernel_size=(5,), stride=(1,))\n",
              "    (52): Conv1d(1, 32, kernel_size=(5,), stride=(1,))\n",
              "    (53): Conv1d(1, 32, kernel_size=(5,), stride=(1,))\n",
              "    (54): Conv1d(1, 32, kernel_size=(5,), stride=(1,))\n",
              "    (55): Conv1d(1, 32, kernel_size=(5,), stride=(1,))\n",
              "    (56): Conv1d(1, 32, kernel_size=(5,), stride=(1,))\n",
              "    (57): Conv1d(1, 32, kernel_size=(5,), stride=(1,))\n",
              "    (58): Conv1d(1, 32, kernel_size=(5,), stride=(1,))\n",
              "    (59): Conv1d(1, 32, kernel_size=(5,), stride=(1,))\n",
              "    (60): Conv1d(1, 32, kernel_size=(5,), stride=(1,))\n",
              "    (61): Conv1d(1, 32, kernel_size=(5,), stride=(1,))\n",
              "    (62): Conv1d(1, 32, kernel_size=(5,), stride=(1,))\n",
              "    (63): Conv1d(1, 32, kernel_size=(5,), stride=(1,))\n",
              "    (64): Conv1d(1, 32, kernel_size=(5,), stride=(1,))\n",
              "    (65): Conv1d(1, 32, kernel_size=(5,), stride=(1,))\n",
              "    (66): Conv1d(1, 32, kernel_size=(5,), stride=(1,))\n",
              "    (67): Conv1d(1, 32, kernel_size=(5,), stride=(1,))\n",
              "    (68): Conv1d(1, 32, kernel_size=(5,), stride=(1,))\n",
              "    (69): Conv1d(1, 32, kernel_size=(5,), stride=(1,))\n",
              "    (70): Conv1d(1, 32, kernel_size=(5,), stride=(1,))\n",
              "    (71): Conv1d(1, 32, kernel_size=(5,), stride=(1,))\n",
              "    (72): Conv1d(1, 32, kernel_size=(5,), stride=(1,))\n",
              "    (73): Conv1d(1, 32, kernel_size=(5,), stride=(1,))\n",
              "    (74): Conv1d(1, 32, kernel_size=(5,), stride=(1,))\n",
              "    (75): Conv1d(1, 32, kernel_size=(5,), stride=(1,))\n",
              "    (76): Conv1d(1, 32, kernel_size=(5,), stride=(1,))\n",
              "    (77): Conv1d(1, 32, kernel_size=(5,), stride=(1,))\n",
              "    (78): Conv1d(1, 32, kernel_size=(5,), stride=(1,))\n",
              "    (79): Conv1d(1, 32, kernel_size=(5,), stride=(1,))\n",
              "    (80): Conv1d(1, 32, kernel_size=(5,), stride=(1,))\n",
              "    (81): Conv1d(1, 32, kernel_size=(5,), stride=(1,))\n",
              "    (82): Conv1d(1, 32, kernel_size=(5,), stride=(1,))\n",
              "    (83): Conv1d(1, 32, kernel_size=(5,), stride=(1,))\n",
              "    (84): Conv1d(1, 32, kernel_size=(5,), stride=(1,))\n",
              "    (85): Conv1d(1, 32, kernel_size=(5,), stride=(1,))\n",
              "    (86): Conv1d(1, 32, kernel_size=(5,), stride=(1,))\n",
              "    (87): Conv1d(1, 32, kernel_size=(5,), stride=(1,))\n",
              "    (88): Conv1d(1, 32, kernel_size=(5,), stride=(1,))\n",
              "    (89): Conv1d(1, 32, kernel_size=(5,), stride=(1,))\n",
              "    (90): Conv1d(1, 32, kernel_size=(5,), stride=(1,))\n",
              "    (91): Conv1d(1, 32, kernel_size=(5,), stride=(1,))\n",
              "    (92): Conv1d(1, 32, kernel_size=(5,), stride=(1,))\n",
              "    (93): Conv1d(1, 32, kernel_size=(5,), stride=(1,))\n",
              "    (94): Conv1d(1, 32, kernel_size=(5,), stride=(1,))\n",
              "    (95): Conv1d(1, 32, kernel_size=(5,), stride=(1,))\n",
              "    (96): Conv1d(1, 32, kernel_size=(5,), stride=(1,))\n",
              "  )\n",
              "  (fc1): Linear(in_features=384, out_features=3000, bias=True)\n",
              "  (fc2): Linear(in_features=3000, out_features=2500, bias=True)\n",
              "  (fc3): Linear(in_features=2500, out_features=1200, bias=True)\n",
              "  (fc4): Linear(in_features=1200, out_features=6, bias=True)\n",
              ")"
            ]
          },
          "metadata": {
            "tags": []
          },
          "execution_count": 10
        }
      ]
    },
    {
      "cell_type": "markdown",
      "metadata": {
        "id": "5j85PSwbnYTw"
      },
      "source": [
        "# Execute Model Training"
      ]
    },
    {
      "cell_type": "code",
      "metadata": {
        "colab": {
          "base_uri": "https://localhost:8080/"
        },
        "id": "zBWwSaX57Vjx",
        "outputId": "0c749faf-43bf-4bc0-c29a-fc1e60c5de7b"
      },
      "source": [
        "Q=1\n",
        "y=np.load('drive/My Drive/Dataset/Y_Q_%d_CNN.npy'%Q)\n",
        "y.shape"
      ],
      "execution_count": null,
      "outputs": [
        {
          "output_type": "execute_result",
          "data": {
            "text/plain": [
              "(215271, 3)"
            ]
          },
          "metadata": {
            "tags": []
          },
          "execution_count": 11
        }
      ]
    },
    {
      "cell_type": "code",
      "metadata": {
        "colab": {
          "base_uri": "https://localhost:8080/"
        },
        "id": "VEBv1V7MI__K",
        "outputId": "0baffad8-341b-425b-feee-3acc65450d26"
      },
      "source": [
        "Q=2\n",
        "x=np.load('drive/My Drive/Dataset/X_Q_%d_CNN.npy'%Q)\n",
        "x.shape"
      ],
      "execution_count": null,
      "outputs": [
        {
          "output_type": "execute_result",
          "data": {
            "text/plain": [
              "(175000, 97, 16)"
            ]
          },
          "metadata": {
            "tags": []
          },
          "execution_count": 12
        }
      ]
    },
    {
      "cell_type": "code",
      "metadata": {
        "id": "oktYejqdnYTw"
      },
      "source": [
        "import os\n",
        "import numpy as np\n",
        "import PIL.Image as Image\n",
        "import torch\n",
        "import torchvision.transforms as transforms\n",
        "from torch.utils.data import Dataset\n",
        "\n",
        "class EEG(Dataset):\n",
        "    def __init__(self, root='./', train=True, Q=2, split=0.8):\n",
        "        super(EEG, self).__init__()\n",
        "        path='train' if train else 'val'\n",
        "        self.data=np.load(root+'X_Q_%d_CNN.npy'%Q)\n",
        "        self.targets=np.load(root+'Y_Q_%d_CNN.npy'%Q)\n",
        "        split=int(0.8*self.data.shape[0])\n",
        "        if train:\n",
        "            self.data=self.data[:split]\n",
        "            self.targets=self.targets[:split]\n",
        "        else:\n",
        "            self.data=self.data[split:]\n",
        "            self.targets=self.targets[split:]\n",
        "\n",
        "    def __getitem__(self, index):\n",
        "        x, target = self.data[index], self.targets[index]\n",
        "        return x, target\n",
        "\n",
        "    def __len__(self):\n",
        "        return self.data.shape[0]"
      ],
      "execution_count": null,
      "outputs": []
    },
    {
      "cell_type": "code",
      "metadata": {
        "id": "InmzCYzinYTx"
      },
      "source": [
        "import torch\n",
        "import torch.nn as nn\n",
        "import torch.optim as optim\n",
        "import torch.nn.functional as F\n",
        "import torch.backends.cudnn as cudnn\n",
        "import matplotlib.pyplot as plt\n",
        "import numpy as np\n",
        "from torch.utils.data import Dataset, DataLoader\n",
        "\n",
        "def main(Q, lr, epochs):\n",
        "    exp_name='CNN_Q=%d'%Q\n",
        "    device = 'cuda' if torch.cuda.is_available() else 'cpu'\n",
        "    # print(torch.cuda.get_device_properties(0))\n",
        "    \n",
        "    # Data\n",
        "    print('==> Preparing data..')\n",
        "    path = 'drive/MyDrive/Dataset/'\n",
        "    trainset = EEG(root=path,train=True,Q=Q,split=.8)\n",
        "    trainloader = DataLoader(trainset, batch_size=128, shuffle=True, num_workers=2)\n",
        "    testset = EEG(root=path,train=False,Q=Q,split=.8)\n",
        "    testloader = DataLoader(testset, batch_size=128, shuffle=False, num_workers=2)\n",
        "\n",
        "    # Model\n",
        "    print('==> Building model..')\n",
        "    net = DeepEEG_CNN_Model(M=97, num_of_samples=16, L=32, Q=Q)\n",
        "    net = net.to(device)\n",
        "    if device == 'cuda':\n",
        "        net = torch.nn.DataParallel(net)\n",
        "        cudnn.benchmark = True\n",
        "\n",
        "    start_epoch = 1\n",
        "    end_epoch = epochs+1\n",
        "    # Load checkpoint.\n",
        "    if os.path.exists('%s_model.pth'%exp_name):        \n",
        "        print('==> Resuming from last epoch..')\n",
        "        net.load_state_dict(torch.load('%s_model.pth'%exp_name))\n",
        "\n",
        "    criterion = nn.MSELoss()\n",
        "    optimizer = optim.SGD(net.parameters(), lr=lr) #, momentum=0.9, weight_decay=0.0001\n",
        "    trainloss, testloss, trainacc, testacc = [], [], [], []\n",
        "    for epoch in range(start_epoch, end_epoch):\n",
        "        # if epoch==5:\n",
        "            # lr/=10.\n",
        "            # optimizer = optim.SGD(net.parameters(), lr=lr) #, momentum=0.9, weight_decay=0.0001\n",
        "        l=train(epoch, net, trainloader, device, optimizer, criterion)\n",
        "        trainloss.append(l)\n",
        "        l=test(epoch, net, testloader, device, criterion, exp_name)\n",
        "        testloss.append(l)\n",
        "\n",
        "        print('Epoch  % 2d Train Loss: %2.5f Test Loss: %2.5f'%(epoch,trainloss[-1],testloss[-1]))\n",
        "        # display.clear_output(wait=True)\n",
        "\n",
        "    torch.save(net.state_dict(), '%s_model.pth'%exp_name)\n",
        "    Save_Stats(trainloss, testloss, exp_name)\n",
        "\n",
        "def train(epoch, net, trainloader, device, optimizer, criterion):\n",
        "    net.train()\n",
        "    train_loss = 0\n",
        "    for batch_idx, (inputs, targets) in enumerate(trainloader):\n",
        "        inputs, targets = inputs.to(device).float(), targets.to(device).float()\n",
        "        optimizer.zero_grad()\n",
        "        outputs = net(inputs)\n",
        "        loss = criterion(outputs, targets)\n",
        "        loss.backward()\n",
        "        optimizer.step()\n",
        "        train_loss += loss.item()\n",
        "    return train_loss/(batch_idx+1)\n",
        "\n",
        "def test(epoch, net, testloader, device, criterion, exp_name):\n",
        "    net.eval()\n",
        "    test_loss = 0\n",
        "    correct = 0\n",
        "    total = 0\n",
        "    with torch.no_grad():\n",
        "        for batch_idx, (inputs, targets) in enumerate(testloader):\n",
        "            inputs, targets = inputs.to(device).float(), targets.to(device).float()\n",
        "            outputs = net(inputs)\n",
        "            loss = criterion(outputs, targets)\n",
        "            test_loss += loss.item()\n",
        "    return test_loss/(batch_idx+1)\n",
        "\n",
        "def Save_Stats(trainloss, testloss, exp_name):\n",
        "    data=[]\n",
        "    data.append(trainloss)\n",
        "    data.append(testloss)\n",
        "    data=np.array(data)\n",
        "    data.reshape((2,-1))\n",
        "    stats_path = '%s.npy'%exp_name\n",
        "    if os.path.exists(stats_path):\n",
        "        data_old = np.load(stats_path)\n",
        "        data = np.hstack((data_old,data))\n",
        "    np.save(stats_path,data)\n",
        "\n",
        "    SavePlots(data[0], data[1], 'loss', exp_name)\n",
        "\n",
        "def SavePlots(y1, y2, metric, exp_name):\n",
        "    try:\n",
        "        plt.clf()\n",
        "    except Exception as e:\n",
        "        pass\n",
        "    # plt.style.use('seaborn')\n",
        "    plt.title(exp_name)\n",
        "    plt.xlabel('epochs')\n",
        "    plt.ylabel(metric)\n",
        "    epochs=np.arange(1,len(y1)+1,1)\n",
        "    plt.plot(epochs,y1,label='train %s'%metric)\n",
        "    plt.plot(epochs,y2,label='val %s'%metric)\n",
        "    plt.legend()\n",
        "    plt.savefig('%s_%s'%(exp_name,metric), dpi=95)"
      ],
      "execution_count": null,
      "outputs": []
    },
    {
      "cell_type": "code",
      "metadata": {
        "id": "Ue0G4FdHII3-",
        "colab": {
          "base_uri": "https://localhost:8080/",
          "height": 414
        },
        "outputId": "4bdd45b9-b0f7-438d-9973-a5d2b63fa438"
      },
      "source": [
        "main(Q=1,lr=0.01,epochs=5)"
      ],
      "execution_count": null,
      "outputs": [
        {
          "output_type": "stream",
          "text": [
            "==> Preparing data..\n",
            "==> Building model..\n",
            "Epoch   1 Train Loss: 1.03042 Test Loss: 1.00139\n",
            "Epoch   2 Train Loss: 0.99202 Test Loss: 1.05483\n",
            "Epoch   3 Train Loss: 0.98895 Test Loss: 1.00244\n",
            "Epoch   4 Train Loss: 0.98535 Test Loss: 0.99749\n",
            "Epoch   5 Train Loss: 0.98405 Test Loss: 0.98806\n"
          ],
          "name": "stdout"
        },
        {
          "output_type": "display_data",
          "data": {
            "image/png": "[encoded data removed]",
            "text/plain": [
              "<Figure size 432x288 with 1 Axes>"
            ]
          },
          "metadata": {
            "tags": [],
            "needs_background": "light"
          }
        }
      ]
    },
    {
      "cell_type": "code",
      "metadata": {
        "colab": {
          "base_uri": "https://localhost:8080/",
          "height": 431
        },
        "id": "DWSi3qBDvqmb",
        "outputId": "55d04977-c373-4a6a-81ae-c70238deb345"
      },
      "source": [
        "main(Q=1,lr=0.01,epochs=5)"
      ],
      "execution_count": null,
      "outputs": [
        {
          "output_type": "stream",
          "text": [
            "==> Preparing data..\n",
            "==> Building model..\n",
            "==> Resuming from last epoch..\n",
            "Epoch   1 Train Loss: 0.98281 Test Loss: 1.00976\n",
            "Epoch   2 Train Loss: 0.98268 Test Loss: 0.98075\n",
            "Epoch   3 Train Loss: 0.98191 Test Loss: 0.98019\n",
            "Epoch   4 Train Loss: 0.98139 Test Loss: 0.99175\n",
            "Epoch   5 Train Loss: 0.98104 Test Loss: 0.99134\n"
          ],
          "name": "stdout"
        },
        {
          "output_type": "display_data",
          "data": {
            "image/png": "[encoded data removed]",
            "text/plain": [
              "<Figure size 432x288 with 1 Axes>"
            ]
          },
          "metadata": {
            "tags": [],
            "needs_background": "light"
          }
        }
      ]
    },
    {
      "cell_type": "code",
      "metadata": {
        "colab": {
          "base_uri": "https://localhost:8080/",
          "height": 431
        },
        "id": "7dhoFJlbvt3T",
        "outputId": "c08f1e3c-50a8-4794-81e4-78b2e4efd14d"
      },
      "source": [
        "main(Q=1,lr=0.001,epochs=5)"
      ],
      "execution_count": null,
      "outputs": [
        {
          "output_type": "stream",
          "text": [
            "==> Preparing data..\n",
            "==> Building model..\n",
            "==> Resuming from last epoch..\n",
            "Epoch   1 Train Loss: 0.97770 Test Loss: 0.97927\n",
            "Epoch   2 Train Loss: 0.97764 Test Loss: 0.97939\n",
            "Epoch   3 Train Loss: 0.97773 Test Loss: 0.97929\n",
            "Epoch   4 Train Loss: 0.97763 Test Loss: 0.97918\n",
            "Epoch   5 Train Loss: 0.97765 Test Loss: 0.97951\n"
          ],
          "name": "stdout"
        },
        {
          "output_type": "display_data",
          "data": {
            "image/png": "[encoded data removed]",
            "text/plain": [
              "<Figure size 432x288 with 1 Axes>"
            ]
          },
          "metadata": {
            "tags": [],
            "needs_background": "light"
          }
        }
      ]
    },
    {
      "cell_type": "code",
      "metadata": {
        "id": "ERDaQC6AvvNy"
      },
      "source": [
        ""
      ],
      "execution_count": null,
      "outputs": []
    },
    {
      "cell_type": "code",
      "metadata": {
        "colab": {
          "base_uri": "https://localhost:8080/",
          "height": 414
        },
        "id": "NJH5bWJpnYTz",
        "outputId": "8978c3dd-b371-4a4a-cad9-1ee5dbc04588"
      },
      "source": [
        "main(Q=2,lr=0.01,epochs=5)"
      ],
      "execution_count": null,
      "outputs": [
        {
          "output_type": "stream",
          "text": [
            "==> Preparing data..\n",
            "==> Building model..\n",
            "Epoch   1 Train Loss: 1.00895 Test Loss: 1.01064\n",
            "Epoch   2 Train Loss: 1.00814 Test Loss: 1.01110\n",
            "Epoch   3 Train Loss: 1.00874 Test Loss: 1.00322\n",
            "Epoch   4 Train Loss: 1.00833 Test Loss: 1.00400\n",
            "Epoch   5 Train Loss: 1.00777 Test Loss: 1.00226\n"
          ],
          "name": "stdout"
        },
        {
          "output_type": "display_data",
          "data": {
            "image/png": "[encoded data removed]",
            "text/plain": [
              "<Figure size 432x288 with 1 Axes>"
            ]
          },
          "metadata": {
            "tags": []
          }
        }
      ]
    },
    {
      "cell_type": "code",
      "metadata": {
        "colab": {
          "base_uri": "https://localhost:8080/",
          "height": 431
        },
        "id": "QoBcmhjznYTz",
        "outputId": "bb288141-1866-4114-d002-dea37d746c49"
      },
      "source": [
        "main(Q=2,lr=0.001,epochs=5)"
      ],
      "execution_count": null,
      "outputs": [
        {
          "output_type": "stream",
          "text": [
            "==> Preparing data..\n",
            "==> Building model..\n",
            "==> Resuming from last epoch..\n",
            "Epoch   1 Train Loss: 1.00060 Test Loss: 1.00059\n",
            "Epoch   2 Train Loss: 1.00052 Test Loss: 1.00065\n",
            "Epoch   3 Train Loss: 1.00050 Test Loss: 1.00031\n",
            "Epoch   4 Train Loss: 1.00055 Test Loss: 1.00079\n",
            "Epoch   5 Train Loss: 1.00052 Test Loss: 1.00039\n"
          ],
          "name": "stdout"
        },
        {
          "output_type": "display_data",
          "data": {
            "image/png": "[encoded data removed]",
            "text/plain": [
              "<Figure size 432x288 with 1 Axes>"
            ]
          },
          "metadata": {
            "tags": []
          }
        }
      ]
    },
    {
      "cell_type": "code",
      "metadata": {
        "colab": {
          "base_uri": "https://localhost:8080/",
          "height": 431
        },
        "id": "owT2jB4MnYTz",
        "outputId": "e0b72573-98ef-4f3b-f0a1-e15cdd45ce16"
      },
      "source": [
        "main(Q=2,lr=0.0001,epochs=5)"
      ],
      "execution_count": null,
      "outputs": [
        {
          "output_type": "stream",
          "text": [
            "==> Preparing data..\n",
            "==> Building model..\n",
            "==> Resuming from last epoch..\n",
            "Epoch   1 Train Loss: 1.00016 Test Loss: 1.00029\n",
            "Epoch   2 Train Loss: 1.00016 Test Loss: 1.00031\n",
            "Epoch   3 Train Loss: 1.00014 Test Loss: 1.00043\n",
            "Epoch   4 Train Loss: 1.00016 Test Loss: 1.00037\n",
            "Epoch   5 Train Loss: 1.00016 Test Loss: 1.00033\n"
          ],
          "name": "stdout"
        },
        {
          "output_type": "display_data",
          "data": {
            "image/png": "[encoded data removed]",
            "text/plain": [
              "<Figure size 432x288 with 1 Axes>"
            ]
          },
          "metadata": {
            "tags": []
          }
        }
      ]
    },
    {
      "cell_type": "markdown",
      "metadata": {
        "id": "P3DuxrndrcU2"
      },
      "source": [
        "# Testing models : CNN Q=1"
      ]
    },
    {
      "cell_type": "code",
      "metadata": {
        "id": "IGNLpJjcrcU2"
      },
      "source": [
        "import torch\n",
        "import torch.nn as nn\n",
        "import torch.optim as optim\n",
        "import torch.nn.functional as F\n",
        "import torch.backends.cudnn as cudnn\n",
        "import matplotlib.pyplot as plt\n",
        "import numpy as np\n",
        "from torch.utils.data import Dataset, DataLoader\n",
        "\n",
        "device = 'cuda' if torch.cuda.is_available() else 'cpu'"
      ],
      "execution_count": null,
      "outputs": []
    },
    {
      "cell_type": "code",
      "metadata": {
        "colab": {
          "base_uri": "https://localhost:8080/"
        },
        "id": "SxgA5I6ircU3",
        "outputId": "3441c447-6ca3-4746-8250-04772b5e9229"
      },
      "source": [
        "net = DeepEEG_CNN_Model(97, 16, 32, 1)\n",
        "net = net.to(device)\n",
        "if device == 'cuda':\n",
        "    net = torch.nn.DataParallel(net)\n",
        "    cudnn.benchmark = True\n",
        "net.load_state_dict(torch.load('drive/My Drive/models/CNN_Q=1_model.pth')) #drive/My Drive/models/"
      ],
      "execution_count": null,
      "outputs": [
        {
          "output_type": "execute_result",
          "data": {
            "text/plain": [
              "<All keys matched successfully>"
            ]
          },
          "metadata": {
            "tags": []
          },
          "execution_count": 29
        }
      ]
    },
    {
      "cell_type": "code",
      "metadata": {
        "id": "zW2Q578rrcU3"
      },
      "source": [
        "X=np.load('drive/My Drive/Dataset/X_Q_1_CNN.npy')\n",
        "Y=np.load('drive/My Drive/Dataset/Y_Q_1_CNN.npy')"
      ],
      "execution_count": null,
      "outputs": []
    },
    {
      "cell_type": "code",
      "metadata": {
        "colab": {
          "base_uri": "https://localhost:8080/"
        },
        "id": "VHoCr5MKblxF",
        "outputId": "eb7df1b9-4a8a-4bc5-b6e6-7e35cc62b396"
      },
      "source": [
        "print(X.shape, Y.shape)"
      ],
      "execution_count": null,
      "outputs": [
        {
          "output_type": "stream",
          "text": [
            "(215271, 97, 16) (215271, 3)\n"
          ],
          "name": "stdout"
        }
      ]
    },
    {
      "cell_type": "code",
      "metadata": {
        "id": "amWh5nTnrcU4"
      },
      "source": [
        "net=net.to(device)\n",
        "x=torch.from_numpy(X[100:200]).to(device)\n",
        "y=Y[100:200]\n",
        "y_=net(x).detach().cpu().numpy()"
      ],
      "execution_count": null,
      "outputs": []
    },
    {
      "cell_type": "code",
      "metadata": {
        "id": "6mbu2zxSrcU4"
      },
      "source": [
        "y_stddev=np.array([[35.536068], [40.47435], [22.800743]]).T"
      ],
      "execution_count": null,
      "outputs": []
    },
    {
      "cell_type": "code",
      "metadata": {
        "id": "M-U_bMtzrcU4"
      },
      "source": [
        "eucl_dist=np.sqrt(np.sum((y_stddev*(y-y_))**2,axis=1))"
      ],
      "execution_count": null,
      "outputs": []
    },
    {
      "cell_type": "code",
      "metadata": {
        "id": "sF5glabRrcU4",
        "colab": {
          "base_uri": "https://localhost:8080/"
        },
        "outputId": "f8f3fa15-1921-4291-ae71-08ecd1e29fe5"
      },
      "source": [
        "print(eucl_dist.mean())\n",
        "# print(eucl_dist)"
      ],
      "execution_count": null,
      "outputs": [
        {
          "output_type": "stream",
          "text": [
            "58.785515846193796\n"
          ],
          "name": "stdout"
        }
      ]
    },
    {
      "cell_type": "code",
      "metadata": {
        "colab": {
          "base_uri": "https://localhost:8080/"
        },
        "id": "zZISpvx5bySf",
        "outputId": "8a9ef2fe-22e0-45e0-cb62-d86fd8a6fefe"
      },
      "source": [
        "print(eucl_dist.min())\n",
        "# print(eucl_dist)"
      ],
      "execution_count": null,
      "outputs": [
        {
          "output_type": "stream",
          "text": [
            "5.46667386662273\n"
          ],
          "name": "stdout"
        }
      ]
    },
    {
      "cell_type": "markdown",
      "metadata": {
        "id": "3GhubNbar8hz"
      },
      "source": [
        "# Testing models : CNN Q=2"
      ]
    },
    {
      "cell_type": "code",
      "metadata": {
        "id": "rfprch44r8h0"
      },
      "source": [
        "device = 'cuda' if torch.cuda.is_available() else 'cpu'"
      ],
      "execution_count": null,
      "outputs": []
    },
    {
      "cell_type": "code",
      "metadata": {
        "colab": {
          "base_uri": "https://localhost:8080/",
          "height": 470
        },
        "id": "1vibocBZr8h0",
        "outputId": "e12b735b-83f2-4db9-f811-e00f012d917a"
      },
      "source": [
        "net = DeepEEG_CNN_Model(97, 16, 32, 2)\n",
        "net = net.to(device)\n",
        "if device == 'cuda':\n",
        "    net = torch.nn.DataParallel(net)\n",
        "    cudnn.benchmark = True\n",
        "net.load_state_dict(torch.load('drive/My Drive/models/CNN_Q=2_model.pth',map_location=device))"
      ],
      "execution_count": null,
      "outputs": [
        {
          "output_type": "error",
          "ename": "RuntimeError",
          "evalue": "ignored",
          "traceback": [
            "\u001b[0;31m---------------------------------------------------------------------------\u001b[0m",
            "\u001b[0;31mRuntimeError\u001b[0m                              Traceback (most recent call last)",
            "\u001b[0;32m<ipython-input-12-da6af7a3c261>\u001b[0m in \u001b[0;36m<module>\u001b[0;34m()\u001b[0m\n\u001b[1;32m      4\u001b[0m     \u001b[0mnet\u001b[0m \u001b[0;34m=\u001b[0m \u001b[0mtorch\u001b[0m\u001b[0;34m.\u001b[0m\u001b[0mnn\u001b[0m\u001b[0;34m.\u001b[0m\u001b[0mDataParallel\u001b[0m\u001b[0;34m(\u001b[0m\u001b[0mnet\u001b[0m\u001b[0;34m)\u001b[0m\u001b[0;34m\u001b[0m\u001b[0;34m\u001b[0m\u001b[0m\n\u001b[1;32m      5\u001b[0m     \u001b[0mcudnn\u001b[0m\u001b[0;34m.\u001b[0m\u001b[0mbenchmark\u001b[0m \u001b[0;34m=\u001b[0m \u001b[0;32mTrue\u001b[0m\u001b[0;34m\u001b[0m\u001b[0;34m\u001b[0m\u001b[0m\n\u001b[0;32m----> 6\u001b[0;31m \u001b[0mnet\u001b[0m\u001b[0;34m.\u001b[0m\u001b[0mload_state_dict\u001b[0m\u001b[0;34m(\u001b[0m\u001b[0mtorch\u001b[0m\u001b[0;34m.\u001b[0m\u001b[0mload\u001b[0m\u001b[0;34m(\u001b[0m\u001b[0;34m'drive/My Drive/models/CNN_Q=2_model.pth'\u001b[0m\u001b[0;34m,\u001b[0m\u001b[0mmap_location\u001b[0m\u001b[0;34m=\u001b[0m\u001b[0mdevice\u001b[0m\u001b[0;34m)\u001b[0m\u001b[0;34m)\u001b[0m\u001b[0;34m\u001b[0m\u001b[0;34m\u001b[0m\u001b[0m\n\u001b[0m",
            "\u001b[0;32m/usr/local/lib/python3.7/dist-packages/torch/nn/modules/module.py\u001b[0m in \u001b[0;36mload_state_dict\u001b[0;34m(self, state_dict, strict)\u001b[0m\n\u001b[1;32m   1222\u001b[0m         \u001b[0;32mif\u001b[0m \u001b[0mlen\u001b[0m\u001b[0;34m(\u001b[0m\u001b[0merror_msgs\u001b[0m\u001b[0;34m)\u001b[0m \u001b[0;34m>\u001b[0m \u001b[0;36m0\u001b[0m\u001b[0;34m:\u001b[0m\u001b[0;34m\u001b[0m\u001b[0;34m\u001b[0m\u001b[0m\n\u001b[1;32m   1223\u001b[0m             raise RuntimeError('Error(s) in loading state_dict for {}:\\n\\t{}'.format(\n\u001b[0;32m-> 1224\u001b[0;31m                                self.__class__.__name__, \"\\n\\t\".join(error_msgs)))\n\u001b[0m\u001b[1;32m   1225\u001b[0m         \u001b[0;32mreturn\u001b[0m \u001b[0m_IncompatibleKeys\u001b[0m\u001b[0;34m(\u001b[0m\u001b[0mmissing_keys\u001b[0m\u001b[0;34m,\u001b[0m \u001b[0munexpected_keys\u001b[0m\u001b[0;34m)\u001b[0m\u001b[0;34m\u001b[0m\u001b[0;34m\u001b[0m\u001b[0m\n\u001b[1;32m   1226\u001b[0m \u001b[0;34m\u001b[0m\u001b[0m\n",
            "\u001b[0;31mRuntimeError\u001b[0m: Error(s) in loading state_dict for DeepEEG_CNN:\n\tMissing key(s) in state_dict: \"conv.0.weight\", \"conv.0.bias\", \"conv.1.weight\", \"conv.1.bias\", \"conv.2.weight\", \"conv.2.bias\", \"conv.3.weight\", \"conv.3.bias\", \"conv.4.weight\", \"conv.4.bias\", \"conv.5.weight\", \"conv.5.bias\", \"conv.6.weight\", \"conv.6.bias\", \"conv.7.weight\", \"conv.7.bias\", \"conv.8.weight\", \"conv.8.bias\", \"conv.9.weight\", \"conv.9.bias\", \"conv.10.weight\", \"conv.10.bias\", \"conv.11.weight\", \"conv.11.bias\", \"conv.12.weight\", \"conv.12.bias\", \"conv.13.weight\", \"conv.13.bias\", \"conv.14.weight\", \"conv.14.bias\", \"conv.15.weight\", \"conv.15.bias\", \"conv.16.weight\", \"conv.16.bias\", \"conv.17.weight\", \"conv.17.bias\", \"conv.18.weight\", \"conv.18.bias\", \"conv.19.weight\", \"conv.19.bias\", \"conv.20.weight\", \"conv.20.bias\", \"conv.21.weight\", \"conv.21.bias\", \"conv.22.weight\", \"conv.22.bias\", \"conv.23.weight\", \"conv.23.bias\", \"conv.24.weight\", \"conv.24.bias\", \"conv.25.weight\", \"conv.25.bias\", \"conv.26.weight\", \"conv.26.bias\", \"conv.27.weight\", \"conv.27.bias\", \"conv.28.weight\", \"conv.28.bias\", \"conv.29.weight\", \"conv.29.bias\", \"conv.30.weight\", \"conv.30.bias\", \"conv.31.weight\", \"conv.31.bias\", \"conv.32.weight\", \"conv.32.bias\", \"conv.33.weight\", \"conv.33.bias\", \"conv.34.weight\", \"conv.34.bias\", \"conv.35.weight\", \"conv.35.bias\", \"conv.36.weight\", \"conv.36.bias\", \"conv.37.weight\", \"conv.37.bias\", \"conv.38.weight\", \"conv.38.bias\", \"conv.39.weight\", \"conv.39.bias\", \"conv.40.weight\", \"conv.40.bias\", \"conv.41.weight\", \"conv.41.bias\", \"conv.42.weight\", \"conv.42.bias\", \"conv.43.weight\", \"conv....\n\tUnexpected key(s) in state_dict: \"module.fc1.weight\", \"module.fc1.bias\", \"module.fc2.weight\", \"module.fc2.bias\", \"module.fc3.weight\", \"module.fc3.bias\", \"module.fc4.weight\", \"module.fc4.bias\". "
          ]
        }
      ]
    },
    {
      "cell_type": "code",
      "metadata": {
        "id": "qiAVxuwLr8h1"
      },
      "source": [
        "X=np.load('drive/My Drive/Dataset/X_Q_2_CNN.npy')\n",
        "Y=np.load('drive/My Drive/Dataset/Y_Q_2_CNN.npy')"
      ],
      "execution_count": null,
      "outputs": []
    },
    {
      "cell_type": "code",
      "metadata": {
        "colab": {
          "base_uri": "https://localhost:8080/"
        },
        "id": "ClTrKGbob3cM",
        "outputId": "0c307931-6c37-4f23-b767-075de3efaeb8"
      },
      "source": [
        "print(X.shape, Y.shape)"
      ],
      "execution_count": null,
      "outputs": [
        {
          "output_type": "stream",
          "text": [
            "(175000, 97, 16) (175000, 6)\n"
          ],
          "name": "stdout"
        }
      ]
    },
    {
      "cell_type": "code",
      "metadata": {
        "id": "yQNWNEIXr8h1"
      },
      "source": [
        "x=torch.from_numpy(X[100:200]).to(device)\n",
        "y=Y[100:200]\n",
        "y_=net(x).to('cpu').detach().numpy()"
      ],
      "execution_count": null,
      "outputs": []
    },
    {
      "cell_type": "code",
      "metadata": {
        "id": "0o3bFVCVr8h1"
      },
      "source": [
        "y_stddev=np.array([[30.238642], [32.947254], [34.24296], [30.238642], [32.947254], [34.242958]]).T"
      ],
      "execution_count": null,
      "outputs": []
    },
    {
      "cell_type": "code",
      "metadata": {
        "id": "0uSnNu-mr8h1"
      },
      "source": [
        "eucl_dist=(y_stddev*(y-y_))**2\n",
        "eucl_dist_1=np.sqrt(np.sum(eucl_dist[:,:3],axis=1))\n",
        "eucl_dist_2=np.sqrt(np.sum(eucl_dist[:,3:],axis=1))"
      ],
      "execution_count": null,
      "outputs": []
    },
    {
      "cell_type": "code",
      "metadata": {
        "colab": {
          "base_uri": "https://localhost:8080/"
        },
        "id": "OyJkYykrr8h2",
        "outputId": "e3969949-4908-44d3-8906-ea9c9632e2d5"
      },
      "source": [
        "print(eucl_dist_1.mean())\n",
        "# print(eucl_dist_1)"
      ],
      "execution_count": null,
      "outputs": [
        {
          "output_type": "stream",
          "text": [
            "54.41222552932773\n"
          ],
          "name": "stdout"
        }
      ]
    },
    {
      "cell_type": "code",
      "metadata": {
        "colab": {
          "base_uri": "https://localhost:8080/"
        },
        "id": "YLWJyIOar8h2",
        "outputId": "69e55888-1ebd-47d4-cc5b-762f4294f4bf"
      },
      "source": [
        "print(eucl_dist_2.mean())\n",
        "# print(eucl_dist_2)"
      ],
      "execution_count": null,
      "outputs": [
        {
          "output_type": "stream",
          "text": [
            "53.1328841525556\n"
          ],
          "name": "stdout"
        }
      ]
    },
    {
      "cell_type": "markdown",
      "metadata": {
        "id": "YJe2cUkfiGyw"
      },
      "source": [
        "# Engineering 2D Conv CNN Model for EEG Source Localisation"
      ]
    },
    {
      "cell_type": "code",
      "metadata": {
        "id": "Z5DIOPA5rXLf"
      },
      "source": [
        "import torch\n",
        "import torch.nn as nn\n",
        "import torch.nn.functional as F"
      ],
      "execution_count": null,
      "outputs": []
    },
    {
      "cell_type": "code",
      "metadata": {
        "id": "IOKRY4dTrez-"
      },
      "source": [
        "c1=nn.Conv2d(in_channels=1, out_channels=3, kernel_size=3, padding=1)\n",
        "p1=nn.MaxPool2d(kernel_size=2, stride=2)\n",
        "c2=nn.Conv2d(in_channels=3, out_channels=64, kernel_size=3, padding=1)\n",
        "p2=nn.MaxPool2d(kernel_size=2,stride=2)\n",
        "c3=nn.Conv2d(in_channels=64, out_channels=256, kernel_size=3, padding=1, stride=2)\n",
        "gap1=nn.AvgPool2d(kernel_size=(12,2))"
      ],
      "execution_count": null,
      "outputs": []
    },
    {
      "cell_type": "code",
      "metadata": {
        "colab": {
          "base_uri": "https://localhost:8080/"
        },
        "id": "qNfZF7gTs_VC",
        "outputId": "abc2d8d8-2656-432e-d925-67369e267616"
      },
      "source": [
        "op=torch.rand(1,1,97,16)\n",
        "layers=[c1,p1,c2,p2,c3,gap1]\n",
        "for layer in layers:\n",
        "  op=layer(op)\n",
        "  print(op.shape)"
      ],
      "execution_count": null,
      "outputs": [
        {
          "output_type": "stream",
          "text": [
            "torch.Size([1, 3, 97, 16])\n",
            "torch.Size([1, 3, 48, 8])\n",
            "torch.Size([1, 64, 48, 8])\n",
            "torch.Size([1, 64, 24, 4])\n",
            "torch.Size([1, 256, 12, 2])\n",
            "torch.Size([1, 256, 1, 1])\n"
          ],
          "name": "stdout"
        }
      ]
    },
    {
      "cell_type": "code",
      "metadata": {
        "colab": {
          "base_uri": "https://localhost:8080/"
        },
        "id": "HYP2mHwdv5lW",
        "outputId": "f788d10f-738b-4428-e51e-5f303d86ca7e"
      },
      "source": [
        "inp=torch.rand(2,97,16)\n",
        "inp=torch.unsqueeze(inp,1)\n",
        "inp.shape"
      ],
      "execution_count": null,
      "outputs": [
        {
          "output_type": "execute_result",
          "data": {
            "text/plain": [
              "torch.Size([2, 1, 97, 16])"
            ]
          },
          "metadata": {
            "tags": []
          },
          "execution_count": 11
        }
      ]
    },
    {
      "cell_type": "markdown",
      "metadata": {
        "id": "nXCz3xeeh6oK"
      },
      "source": [
        "# 2-D Convolutional CNN"
      ]
    },
    {
      "cell_type": "code",
      "metadata": {
        "id": "SWLZQhPx1huM"
      },
      "source": [
        "import torch\n",
        "import torch.nn as nn\n",
        "import torch.nn.functional as F"
      ],
      "execution_count": null,
      "outputs": []
    },
    {
      "cell_type": "code",
      "metadata": {
        "id": "9XW1XLWrh40R"
      },
      "source": [
        "class DeepEEG_CNN(nn.Module): \n",
        "  def __init__(self, M, num_of_samples, Q):\n",
        "    super(DeepEEG_CNN, self).__init__()\n",
        "    self.c1=nn.Conv2d(in_channels=1, out_channels=3, kernel_size=3, padding=1)\n",
        "    self.p1=nn.MaxPool2d(kernel_size=2, stride=2)\n",
        "    self.c2=nn.Conv2d(in_channels=3, out_channels=64, kernel_size=3, padding=1)\n",
        "    self.p2=nn.MaxPool2d(kernel_size=2,stride=2)\n",
        "    self.c3=nn.Conv2d(in_channels=64, out_channels=256, kernel_size=3, padding=1, stride=2)\n",
        "    self.gap1=nn.AvgPool2d(kernel_size=(12,2))\n",
        "    self.fc1 = nn.Linear(256, 3000)\n",
        "    self.fc2 = nn.Linear(3000, 2500)\n",
        "    self.fc3 = nn.Linear(2500, 1200)\n",
        "    self.fc4 = nn.Linear(1200, 3*Q) #3 coordinates for each ECD source\n",
        "\n",
        "  def forward(self,inp):\n",
        "    inp = torch.unsqueeze(inp,1) #batch_size x 1 x 97 x 16\n",
        "    out = F.relu(self.c1(inp))\n",
        "    out = self.p1(out)\n",
        "    out = F.relu(self.c2(out))\n",
        "    out = self.p2(out)\n",
        "    out = F.relu(self.c3(out))\n",
        "    out = self.gap1(out)\n",
        "    out = out.view(out.size(0),-1)\n",
        "    out = torch.sigmoid(self.fc1(out))\n",
        "    out = torch.sigmoid(self.fc2(out))\n",
        "    out = torch.sigmoid(self.fc3(out))\n",
        "    out = self.fc4(out)\n",
        "    return out\n",
        "\n",
        "def DeepEEG_CNN_Model(M=97, num_of_samples=16, Q=1):\n",
        "  # M - number of sensors\n",
        "  # num_of_samples - across time\n",
        "  # Q - number of equivalent current dipole (ECD) sources \n",
        "  return DeepEEG_CNN(M, num_of_samples, Q)"
      ],
      "execution_count": null,
      "outputs": []
    },
    {
      "cell_type": "code",
      "metadata": {
        "colab": {
          "base_uri": "https://localhost:8080/"
        },
        "id": "FkwP6-SEh4yu",
        "outputId": "9035f40f-1605-48d3-a278-32f0eeeb3b33"
      },
      "source": [
        "from torchsummary import summary\n",
        "net = DeepEEG_CNN_Model(97, 16 , 1)\n",
        "device = 'cuda:0' if torch.cuda.is_available() else 'cpu'\n",
        "net = net.to(device)\n",
        "summary(net, input_size=(97,16))\n",
        "# net"
      ],
      "execution_count": null,
      "outputs": [
        {
          "output_type": "stream",
          "text": [
            "----------------------------------------------------------------\n",
            "        Layer (type)               Output Shape         Param #\n",
            "================================================================\n",
            "            Conv2d-1            [-1, 3, 97, 16]              30\n",
            "         MaxPool2d-2             [-1, 3, 48, 8]               0\n",
            "            Conv2d-3            [-1, 64, 48, 8]           1,792\n",
            "         MaxPool2d-4            [-1, 64, 24, 4]               0\n",
            "            Conv2d-5           [-1, 256, 12, 2]         147,712\n",
            "         AvgPool2d-6            [-1, 256, 1, 1]               0\n",
            "            Linear-7                 [-1, 3000]         771,000\n",
            "            Linear-8                 [-1, 2500]       7,502,500\n",
            "            Linear-9                 [-1, 1200]       3,001,200\n",
            "           Linear-10                    [-1, 3]           3,603\n",
            "================================================================\n",
            "Total params: 11,427,837\n",
            "Trainable params: 11,427,837\n",
            "Non-trainable params: 0\n",
            "----------------------------------------------------------------\n",
            "Input size (MB): 0.01\n",
            "Forward/backward pass size (MB): 0.38\n",
            "Params size (MB): 43.59\n",
            "Estimated Total Size (MB): 43.98\n",
            "----------------------------------------------------------------\n"
          ],
          "name": "stdout"
        }
      ]
    },
    {
      "cell_type": "markdown",
      "metadata": {
        "id": "8iIijSEzxhQE"
      },
      "source": [
        "# Execute Model Training"
      ]
    },
    {
      "cell_type": "code",
      "metadata": {
        "colab": {
          "base_uri": "https://localhost:8080/"
        },
        "id": "GvfFQEFzxhQT",
        "outputId": "fbf3bd8f-6d63-4ccf-f263-211001281f76"
      },
      "source": [
        "Q=1\n",
        "y=np.load('drive/My Drive/Dataset/Y_Q_%d_CNN.npy'%Q)\n",
        "print(y.shape)\n",
        "Q=2\n",
        "x=np.load('drive/My Drive/Dataset/X_Q_%d_CNN.npy'%Q)\n",
        "print(x.shape)"
      ],
      "execution_count": null,
      "outputs": [
        {
          "output_type": "stream",
          "text": [
            "(215271, 3)\n",
            "(175000, 97, 16)\n"
          ],
          "name": "stdout"
        }
      ]
    },
    {
      "cell_type": "code",
      "metadata": {
        "id": "sgy7Fz0nxhQV"
      },
      "source": [
        "import os\n",
        "import numpy as np\n",
        "import PIL.Image as Image\n",
        "import torch\n",
        "import torchvision.transforms as transforms\n",
        "from torch.utils.data import Dataset\n",
        "\n",
        "class EEG(Dataset):\n",
        "    def __init__(self, root='./', train=True, Q=2, split=0.8):\n",
        "        super(EEG, self).__init__()\n",
        "        path='train' if train else 'val'\n",
        "        self.data=np.load(root+'X_Q_%d_CNN.npy'%Q)\n",
        "        self.targets=np.load(root+'Y_Q_%d_CNN.npy'%Q)\n",
        "        split=int(0.8*self.data.shape[0])\n",
        "        if train:\n",
        "            self.data=self.data[:split]\n",
        "            self.targets=self.targets[:split]\n",
        "        else:\n",
        "            self.data=self.data[split:]\n",
        "            self.targets=self.targets[split:]\n",
        "\n",
        "    def __getitem__(self, index):\n",
        "        x, target = self.data[index], self.targets[index]\n",
        "        return x, target\n",
        "\n",
        "    def __len__(self):\n",
        "        return self.data.shape[0]"
      ],
      "execution_count": null,
      "outputs": []
    },
    {
      "cell_type": "code",
      "metadata": {
        "id": "oKUahDctxhQV"
      },
      "source": [
        "import torch\n",
        "import torch.nn as nn\n",
        "import torch.optim as optim\n",
        "import torch.nn.functional as F\n",
        "import torch.backends.cudnn as cudnn\n",
        "import matplotlib.pyplot as plt\n",
        "import numpy as np\n",
        "from torch.utils.data import Dataset, DataLoader\n",
        "\n",
        "def main(Q, lr, epochs):\n",
        "    exp_name='2dCNN_Q=%d'%Q\n",
        "    device = 'cuda' if torch.cuda.is_available() else 'cpu'\n",
        "    # print(torch.cuda.get_device_properties(0))\n",
        "    \n",
        "    # Data\n",
        "    print('==> Preparing data..')\n",
        "    path = 'drive/MyDrive/Dataset/'\n",
        "    trainset = EEG(root=path,train=True,Q=Q,split=.8)\n",
        "    trainloader = DataLoader(trainset, batch_size=128, shuffle=True, num_workers=2)\n",
        "    testset = EEG(root=path,train=False,Q=Q,split=.8)\n",
        "    testloader = DataLoader(testset, batch_size=128, shuffle=False, num_workers=2)\n",
        "\n",
        "    # Model\n",
        "    print('==> Building model..')\n",
        "    net = DeepEEG_CNN_Model(M=97, num_of_samples=16, Q=Q)\n",
        "    net = net.to(device)\n",
        "    if device == 'cuda':\n",
        "        net = torch.nn.DataParallel(net)\n",
        "        cudnn.benchmark = True\n",
        "\n",
        "    start_epoch = 1\n",
        "    end_epoch = epochs+1\n",
        "    # Load checkpoint.\n",
        "    if os.path.exists('%s_model.pth'%exp_name):        \n",
        "        print('==> Resuming from last epoch..')\n",
        "        net.load_state_dict(torch.load('%s_model.pth'%exp_name))\n",
        "\n",
        "    criterion = nn.MSELoss()\n",
        "    optimizer = optim.SGD(net.parameters(), lr=lr) #, momentum=0.9, weight_decay=0.0001\n",
        "    trainloss, testloss, trainacc, testacc = [], [], [], []\n",
        "    for epoch in range(start_epoch, end_epoch):\n",
        "        # if epoch==5:\n",
        "            # lr/=10.\n",
        "            # optimizer = optim.SGD(net.parameters(), lr=lr) #, momentum=0.9, weight_decay=0.0001\n",
        "        l=train(epoch, net, trainloader, device, optimizer, criterion)\n",
        "        trainloss.append(l)\n",
        "        l=test(epoch, net, testloader, device, criterion, exp_name)\n",
        "        testloss.append(l)\n",
        "\n",
        "        print('Epoch  % 2d Train Loss: %2.5f Test Loss: %2.5f'%(epoch,trainloss[-1],testloss[-1]))\n",
        "        # display.clear_output(wait=True)\n",
        "\n",
        "    torch.save(net.state_dict(), '%s_model.pth'%exp_name)\n",
        "    Save_Stats(trainloss, testloss, exp_name)\n",
        "\n",
        "def train(epoch, net, trainloader, device, optimizer, criterion):\n",
        "    net.train()\n",
        "    train_loss = 0\n",
        "    for batch_idx, (inputs, targets) in enumerate(trainloader):\n",
        "        inputs, targets = inputs.to(device).float(), targets.to(device).float()\n",
        "        optimizer.zero_grad()\n",
        "        outputs = net(inputs)\n",
        "        loss = criterion(outputs, targets)\n",
        "        loss.backward()\n",
        "        optimizer.step()\n",
        "        train_loss += loss.item()\n",
        "    return train_loss/(batch_idx+1)\n",
        "\n",
        "def test(epoch, net, testloader, device, criterion, exp_name):\n",
        "    net.eval()\n",
        "    test_loss = 0\n",
        "    correct = 0\n",
        "    total = 0\n",
        "    with torch.no_grad():\n",
        "        for batch_idx, (inputs, targets) in enumerate(testloader):\n",
        "            inputs, targets = inputs.to(device).float(), targets.to(device).float()\n",
        "            outputs = net(inputs)\n",
        "            loss = criterion(outputs, targets)\n",
        "            test_loss += loss.item()\n",
        "    return test_loss/(batch_idx+1)\n",
        "\n",
        "def Save_Stats(trainloss, testloss, exp_name):\n",
        "    data=[]\n",
        "    data.append(trainloss)\n",
        "    data.append(testloss)\n",
        "    data=np.array(data)\n",
        "    data.reshape((2,-1))\n",
        "    stats_path = '%s.npy'%exp_name\n",
        "    if os.path.exists(stats_path):\n",
        "        data_old = np.load(stats_path)\n",
        "        data = np.hstack((data_old,data))\n",
        "    np.save(stats_path,data)\n",
        "\n",
        "    SavePlots(data[0], data[1], 'loss', exp_name)\n",
        "\n",
        "def SavePlots(y1, y2, metric, exp_name):\n",
        "    try:\n",
        "        plt.clf()\n",
        "    except Exception as e:\n",
        "        pass\n",
        "    # plt.style.use('seaborn')\n",
        "    plt.title(exp_name)\n",
        "    plt.xlabel('epochs')\n",
        "    plt.ylabel(metric)\n",
        "    epochs=np.arange(1,len(y1)+1,1)\n",
        "    plt.plot(epochs,y1,label='train %s'%metric)\n",
        "    plt.plot(epochs,y2,label='val %s'%metric)\n",
        "    plt.legend()\n",
        "    plt.savefig('%s_%s'%(exp_name,metric), dpi=95)"
      ],
      "execution_count": null,
      "outputs": []
    },
    {
      "cell_type": "code",
      "metadata": {
        "colab": {
          "background_save": true,
          "base_uri": "https://localhost:8080/",
          "height": 414
        },
        "id": "6C381tFuxhQW",
        "outputId": "f730211a-f0a6-4d15-d5e4-d03f8734227d"
      },
      "source": [
        "main(Q=1,lr=0.01,epochs=5)"
      ],
      "execution_count": null,
      "outputs": [
        {
          "output_type": "stream",
          "text": [
            "==> Preparing data..\n",
            "==> Building model..\n",
            "Epoch   1 Train Loss: 1.05181 Test Loss: 1.06942\n",
            "Epoch   2 Train Loss: 1.01426 Test Loss: 1.00884\n",
            "Epoch   3 Train Loss: 1.01031 Test Loss: 1.02032\n",
            "Epoch   4 Train Loss: 1.00856 Test Loss: 1.02262\n",
            "Epoch   5 Train Loss: 1.00633 Test Loss: 1.01300\n"
          ],
          "name": "stdout"
        },
        {
          "output_type": "display_data",
          "data": {
            "image/png": "[encoded data removed]",
            "text/plain": [
              "<Figure size 432x288 with 1 Axes>"
            ]
          },
          "metadata": {
            "tags": []
          }
        }
      ]
    },
    {
      "cell_type": "code",
      "metadata": {
        "colab": {
          "base_uri": "https://localhost:8080/",
          "height": 431
        },
        "id": "ZiT8530-xhQW",
        "outputId": "77839444-b43b-4cde-a794-d62b52f6cbe8"
      },
      "source": [
        "main(Q=1,lr=0.01,epochs=5)"
      ],
      "execution_count": null,
      "outputs": [
        {
          "output_type": "stream",
          "text": [
            "==> Preparing data..\n",
            "==> Building model..\n",
            "==> Resuming from last epoch..\n",
            "Epoch   1 Train Loss: 1.00555 Test Loss: 1.01717\n",
            "Epoch   2 Train Loss: 1.00510 Test Loss: 1.02964\n",
            "Epoch   3 Train Loss: 1.00453 Test Loss: 1.00967\n",
            "Epoch   4 Train Loss: 1.00372 Test Loss: 1.00596\n",
            "Epoch   5 Train Loss: 1.00407 Test Loss: 1.00287\n"
          ],
          "name": "stdout"
        },
        {
          "output_type": "display_data",
          "data": {
            "image/png": "[encoded data removed]",
            "text/plain": [
              "<Figure size 432x288 with 1 Axes>"
            ]
          },
          "metadata": {
            "tags": []
          }
        }
      ]
    },
    {
      "cell_type": "code",
      "metadata": {
        "colab": {
          "base_uri": "https://localhost:8080/",
          "height": 431
        },
        "id": "l2tbsHJE2u9X",
        "outputId": "d32e4fb2-ec4e-406b-f6e7-a1bbef900719"
      },
      "source": [
        "main(Q=1,lr=0.001,epochs=5)"
      ],
      "execution_count": null,
      "outputs": [
        {
          "output_type": "stream",
          "text": [
            "==> Preparing data..\n",
            "==> Building model..\n",
            "==> Resuming from last epoch..\n",
            "Epoch   1 Train Loss: 1.00028 Test Loss: 1.00126\n",
            "Epoch   2 Train Loss: 1.00017 Test Loss: 1.00170\n",
            "Epoch   3 Train Loss: 1.00027 Test Loss: 1.00169\n",
            "Epoch   4 Train Loss: 1.00020 Test Loss: 1.00130\n",
            "Epoch   5 Train Loss: 1.00024 Test Loss: 1.00132\n"
          ],
          "name": "stdout"
        },
        {
          "output_type": "display_data",
          "data": {
            "image/png": "[encoded data removed]",
            "text/plain": [
              "<Figure size 432x288 with 1 Axes>"
            ]
          },
          "metadata": {
            "tags": []
          }
        }
      ]
    },
    {
      "cell_type": "code",
      "metadata": {
        "colab": {
          "base_uri": "https://localhost:8080/",
          "height": 431
        },
        "id": "zhZbvKB43rel",
        "outputId": "b6339654-ff11-4ad8-df20-3fd1d02480c1"
      },
      "source": [
        "main(Q=1,lr=0.0001,epochs=5)"
      ],
      "execution_count": null,
      "outputs": [
        {
          "output_type": "stream",
          "text": [
            "==> Preparing data..\n",
            "==> Building model..\n",
            "==> Resuming from last epoch..\n",
            "Epoch   1 Train Loss: 1.00007 Test Loss: 1.00128\n",
            "Epoch   2 Train Loss: 1.00002 Test Loss: 1.00132\n",
            "Epoch   3 Train Loss: 1.00003 Test Loss: 1.00127\n",
            "Epoch   4 Train Loss: 1.00002 Test Loss: 1.00123\n",
            "Epoch   5 Train Loss: 1.00002 Test Loss: 1.00139\n"
          ],
          "name": "stdout"
        },
        {
          "output_type": "display_data",
          "data": {
            "image/png": "[encoded data removed]",
            "text/plain": [
              "<Figure size 432x288 with 1 Axes>"
            ]
          },
          "metadata": {
            "tags": []
          }
        }
      ]
    },
    {
      "cell_type": "code",
      "metadata": {
        "colab": {
          "base_uri": "https://localhost:8080/",
          "height": 414
        },
        "id": "Vttt5Q2IxhQX",
        "outputId": "daa5a0a2-cbc8-475c-a1b3-ee22d056c7bf"
      },
      "source": [
        "main(Q=2,lr=0.01,epochs=5)"
      ],
      "execution_count": null,
      "outputs": [
        {
          "output_type": "stream",
          "text": [
            "==> Preparing data..\n",
            "==> Building model..\n",
            "Epoch   1 Train Loss: 1.00898 Test Loss: 1.00457\n",
            "Epoch   2 Train Loss: 1.00753 Test Loss: 1.00613\n",
            "Epoch   3 Train Loss: 1.00711 Test Loss: 1.01319\n",
            "Epoch   4 Train Loss: 1.00693 Test Loss: 1.01451\n",
            "Epoch   5 Train Loss: 1.00644 Test Loss: 1.00168\n"
          ],
          "name": "stdout"
        },
        {
          "output_type": "display_data",
          "data": {
            "image/png": "[encoded data removed]",
            "text/plain": [
              "<Figure size 432x288 with 1 Axes>"
            ]
          },
          "metadata": {
            "tags": []
          }
        }
      ]
    },
    {
      "cell_type": "code",
      "metadata": {
        "colab": {
          "base_uri": "https://localhost:8080/",
          "height": 431
        },
        "id": "UqriyW6UxhQX",
        "outputId": "004b039a-1170-4a93-d08e-d98413822225"
      },
      "source": [
        "main(Q=2,lr=0.001,epochs=5)"
      ],
      "execution_count": null,
      "outputs": [
        {
          "output_type": "stream",
          "text": [
            "==> Preparing data..\n",
            "==> Building model..\n",
            "==> Resuming from last epoch..\n",
            "Epoch   1 Train Loss: 1.00013 Test Loss: 1.00106\n",
            "Epoch   2 Train Loss: 1.00011 Test Loss: 1.00189\n",
            "Epoch   3 Train Loss: 1.00011 Test Loss: 1.00116\n",
            "Epoch   4 Train Loss: 1.00007 Test Loss: 1.00153\n",
            "Epoch   5 Train Loss: 1.00004 Test Loss: 1.00118\n"
          ],
          "name": "stdout"
        },
        {
          "output_type": "display_data",
          "data": {
            "image/png": "[encoded data removed]",
            "text/plain": [
              "<Figure size 432x288 with 1 Axes>"
            ]
          },
          "metadata": {
            "tags": []
          }
        }
      ]
    },
    {
      "cell_type": "code",
      "metadata": {
        "colab": {
          "base_uri": "https://localhost:8080/",
          "height": 431
        },
        "id": "fBTG8IpCxhQX",
        "outputId": "6ee16e67-ae64-4e7c-a06b-cec01781ebd1"
      },
      "source": [
        "main(Q=2,lr=0.0001,epochs=5)"
      ],
      "execution_count": null,
      "outputs": [
        {
          "output_type": "stream",
          "text": [
            "==> Preparing data..\n",
            "==> Building model..\n",
            "==> Resuming from last epoch..\n",
            "Epoch   1 Train Loss: 0.99979 Test Loss: 1.00108\n",
            "Epoch   2 Train Loss: 0.99976 Test Loss: 1.00110\n",
            "Epoch   3 Train Loss: 0.99977 Test Loss: 1.00108\n",
            "Epoch   4 Train Loss: 0.99980 Test Loss: 1.00114\n",
            "Epoch   5 Train Loss: 0.99981 Test Loss: 1.00113\n"
          ],
          "name": "stdout"
        },
        {
          "output_type": "display_data",
          "data": {
            "image/png": "[encoded data removed]",
            "text/plain": [
              "<Figure size 432x288 with 1 Axes>"
            ]
          },
          "metadata": {
            "tags": []
          }
        }
      ]
    },
    {
      "cell_type": "code",
      "metadata": {
        "id": "O0JwYRNgh4vP"
      },
      "source": [
        ""
      ],
      "execution_count": null,
      "outputs": []
    },
    {
      "cell_type": "code",
      "metadata": {
        "id": "jCnCSgKuh4so"
      },
      "source": [
        ""
      ],
      "execution_count": null,
      "outputs": []
    },
    {
      "cell_type": "code",
      "metadata": {
        "id": "RWGf2oX-sXcv"
      },
      "source": [
        ""
      ],
      "execution_count": null,
      "outputs": []
    },
    {
      "cell_type": "markdown",
      "metadata": {
        "id": "6eY-aQns5Mj6"
      },
      "source": [
        "# Testing models : 2dCNN Q=1"
      ]
    },
    {
      "cell_type": "code",
      "metadata": {
        "id": "FRHDMGGQ5Mj_"
      },
      "source": [
        "import torch\n",
        "import torch.nn as nn\n",
        "import torch.optim as optim\n",
        "import torch.nn.functional as F\n",
        "import torch.backends.cudnn as cudnn\n",
        "import matplotlib.pyplot as plt\n",
        "import numpy as np\n",
        "from torch.utils.data import Dataset, DataLoader\n",
        "\n",
        "device = 'cuda' if torch.cuda.is_available() else 'cpu'"
      ],
      "execution_count": null,
      "outputs": []
    },
    {
      "cell_type": "code",
      "metadata": {
        "colab": {
          "base_uri": "https://localhost:8080/"
        },
        "id": "8oSFi0kC5MkA",
        "outputId": "b4e899ae-279e-4cb8-dca0-01a4724ea7f1"
      },
      "source": [
        "net = DeepEEG_CNN_Model(97, 16, 1)\n",
        "net = net.to(device)\n",
        "if device == 'cuda':\n",
        "    net = torch.nn.DataParallel(net)\n",
        "    cudnn.benchmark = True\n",
        "net.load_state_dict(torch.load('drive/My Drive/models/2dCNN_Q=1_model.pth')) #drive/My Drive/models/"
      ],
      "execution_count": null,
      "outputs": [
        {
          "output_type": "execute_result",
          "data": {
            "text/plain": [
              "<All keys matched successfully>"
            ]
          },
          "metadata": {
            "tags": []
          },
          "execution_count": 10
        }
      ]
    },
    {
      "cell_type": "code",
      "metadata": {
        "id": "QQeOBdgc5MkC"
      },
      "source": [
        "X=np.load('drive/My Drive/Dataset/X_Q_1_CNN.npy')\n",
        "Y=np.load('drive/My Drive/Dataset/Y_Q_1_CNN.npy')"
      ],
      "execution_count": null,
      "outputs": []
    },
    {
      "cell_type": "code",
      "metadata": {
        "id": "hdVPlAr55MkD"
      },
      "source": [
        "x=torch.from_numpy(X[100:200]).to(device)\n",
        "y=Y[100:200]\n",
        "y_=net(x).to('cpu').detach().numpy()"
      ],
      "execution_count": null,
      "outputs": []
    },
    {
      "cell_type": "code",
      "metadata": {
        "id": "LX36_TPg5MkD"
      },
      "source": [
        "y_stddev=np.array([[35.536068], [40.47435], [22.800743]]).T"
      ],
      "execution_count": null,
      "outputs": []
    },
    {
      "cell_type": "code",
      "metadata": {
        "id": "_fhby9As5MkE"
      },
      "source": [
        "eucl_dist=np.sqrt(np.sum((y_stddev*(y-y_))**2,axis=1))"
      ],
      "execution_count": null,
      "outputs": []
    },
    {
      "cell_type": "code",
      "metadata": {
        "colab": {
          "base_uri": "https://localhost:8080/"
        },
        "id": "h5ZdpdwC5MkE",
        "outputId": "057dcb3c-3dc8-4d36-b25c-eca9e0dc924d"
      },
      "source": [
        "print(eucl_dist.mean())\n",
        "# print(eucl_dist)"
      ],
      "execution_count": null,
      "outputs": [
        {
          "output_type": "stream",
          "text": [
            "59.26020518080737\n"
          ],
          "name": "stdout"
        }
      ]
    },
    {
      "cell_type": "code",
      "metadata": {
        "colab": {
          "base_uri": "https://localhost:8080/"
        },
        "id": "2KUaqUJtiZDy",
        "outputId": "53ee1042-9a08-4d2c-d7d0-df286c9f2e82"
      },
      "source": [
        "print(eucl_dist.min())"
      ],
      "execution_count": null,
      "outputs": [
        {
          "output_type": "stream",
          "text": [
            "3.659040840784409\n"
          ],
          "name": "stdout"
        }
      ]
    },
    {
      "cell_type": "markdown",
      "metadata": {
        "id": "krIQwNj-59uM"
      },
      "source": [
        "# Testing models : 2dCNN Q=2"
      ]
    },
    {
      "cell_type": "code",
      "metadata": {
        "id": "A9d8d_1j59uM"
      },
      "source": [
        "device = 'cuda' if torch.cuda.is_available() else 'cpu'"
      ],
      "execution_count": null,
      "outputs": []
    },
    {
      "cell_type": "code",
      "metadata": {
        "colab": {
          "base_uri": "https://localhost:8080/"
        },
        "id": "NQHm4F8A59uN",
        "outputId": "87f045c1-7a36-46dc-d90b-96023993f0a8"
      },
      "source": [
        "net = DeepEEG_CNN_Model(97, 16, 2)\n",
        "net = net.to(device)\n",
        "if device == 'cuda':\n",
        "    net = torch.nn.DataParallel(net)\n",
        "    cudnn.benchmark = True\n",
        "net.load_state_dict(torch.load('drive/My Drive/models/2dCNN_Q=2_model.pth'))"
      ],
      "execution_count": null,
      "outputs": [
        {
          "output_type": "execute_result",
          "data": {
            "text/plain": [
              "<All keys matched successfully>"
            ]
          },
          "metadata": {
            "tags": []
          },
          "execution_count": 18
        }
      ]
    },
    {
      "cell_type": "code",
      "metadata": {
        "id": "Nis3DzWM59uN"
      },
      "source": [
        "X=np.load('drive/My Drive/Dataset/X_Q_2_CNN.npy')\n",
        "Y=np.load('drive/My Drive/Dataset/Y_Q_2_CNN.npy')"
      ],
      "execution_count": null,
      "outputs": []
    },
    {
      "cell_type": "code",
      "metadata": {
        "id": "0raon7l359uO"
      },
      "source": [
        "x=torch.from_numpy(X[100:200]).to(device)\n",
        "y=Y[100:200]\n",
        "y_=net(x).to('cpu').detach().numpy()"
      ],
      "execution_count": null,
      "outputs": []
    },
    {
      "cell_type": "code",
      "metadata": {
        "id": "QqIYiTh159uO"
      },
      "source": [
        "y_stddev=np.array([[30.238642], [32.947254], [34.24296], [30.238642], [32.947254], [34.242958]]).T"
      ],
      "execution_count": null,
      "outputs": []
    },
    {
      "cell_type": "code",
      "metadata": {
        "id": "6Tnq0QLu59uO"
      },
      "source": [
        "eucl_dist=(y_stddev*(y-y_))**2\n",
        "eucl_dist_1=np.sqrt(np.sum(eucl_dist[:,:3],axis=1))\n",
        "eucl_dist_2=np.sqrt(np.sum(eucl_dist[:,3:],axis=1))"
      ],
      "execution_count": null,
      "outputs": []
    },
    {
      "cell_type": "code",
      "metadata": {
        "colab": {
          "base_uri": "https://localhost:8080/"
        },
        "id": "xIDqbPFM59uO",
        "outputId": "6dd5ebbd-1fd3-4d79-cdaa-82a188d39225"
      },
      "source": [
        "print(eucl_dist_1.mean())\n",
        "print(eucl_dist_1.min())\n",
        "# print(eucl_dist_1)"
      ],
      "execution_count": null,
      "outputs": [
        {
          "output_type": "stream",
          "text": [
            "54.370976056664766\n",
            "9.576820461382185\n"
          ],
          "name": "stdout"
        }
      ]
    },
    {
      "cell_type": "code",
      "metadata": {
        "colab": {
          "base_uri": "https://localhost:8080/"
        },
        "id": "0UQpehCe59uP",
        "outputId": "d47fc521-d859-45d7-88b8-7b69a7ce196c"
      },
      "source": [
        "print(eucl_dist_2.mean())\n",
        "print(eucl_dist_2.min())\n",
        "# print(eucl_dist_2)"
      ],
      "execution_count": null,
      "outputs": [
        {
          "output_type": "stream",
          "text": [
            "53.127489331157946\n",
            "13.804424162090655\n"
          ],
          "name": "stdout"
        }
      ]
    },
    {
      "cell_type": "code",
      "metadata": {
        "id": "QFOhgJecihA7"
      },
      "source": [
        ""
      ],
      "execution_count": null,
      "outputs": []
    }
  ]
}